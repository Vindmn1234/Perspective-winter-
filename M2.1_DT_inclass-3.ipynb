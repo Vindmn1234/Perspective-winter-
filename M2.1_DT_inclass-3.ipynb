{
 "cells": [
  {
   "cell_type": "markdown",
   "id": "ab634878",
   "metadata": {},
   "source": [
    "### Tree-based Machine Learning Models\n",
    "In this jupyter notebook, we will practice the topics covered in the lectures. Specifically, we will do hands-on practice of:\n",
    "- load and prepare data for machine learning model training\n",
    "- train and test tree-based models (decision tree classifier/regressor, randomforest classifier/regressor)\n",
    "- visualize and interpret model performance"
   ]
  },
  {
   "cell_type": "code",
   "execution_count": 1,
   "id": "332a14f7",
   "metadata": {},
   "outputs": [
    {
     "name": "stderr",
     "output_type": "stream",
     "text": [
      "/var/folders/gj/c7zwmp_n0n926g9h2sj4fj3w0000gn/T/ipykernel_1233/1503448227.py:3: DeprecationWarning: \n",
      "Pyarrow will become a required dependency of pandas in the next major release of pandas (pandas 3.0),\n",
      "(to allow more performant data types, such as the Arrow string type, and better interoperability with other libraries)\n",
      "but was not found to be installed on your system.\n",
      "If this would cause problems for you,\n",
      "please provide us feedback at https://github.com/pandas-dev/pandas/issues/54466\n",
      "        \n",
      "  import pandas as pd\n"
     ]
    }
   ],
   "source": [
    "# packages for data \n",
    "import numpy as np\n",
    "import pandas as pd\n",
    "from collections import Counter\n",
    "\n",
    "# packages for machine learning \n",
    "import sklearn\n",
    "from sklearn import tree\n",
    "from sklearn.model_selection import train_test_split\n",
    "import graphviz \n",
    "\n",
    "# packages for plot and visualization\n",
    "import matplotlib.pyplot as plt\n",
    "from matplotlib import pylab\n",
    "import graphviz \n",
    "pylab.rcParams[\"figure.figsize\"] = (5.0, 4.0)\n",
    "%matplotlib inline"
   ]
  },
  {
   "cell_type": "markdown",
   "id": "95b05a19",
   "metadata": {},
   "source": [
    "In the following tasks, we will implement several tree-based models using Python3 and scikit-learn: https://scikit-learn.org/stable/. Let's first check the version of python and sklearn."
   ]
  },
  {
   "cell_type": "code",
   "execution_count": 2,
   "id": "342c5ce3",
   "metadata": {},
   "outputs": [
    {
     "name": "stdout",
     "output_type": "stream",
     "text": [
      "3.9.6\n"
     ]
    }
   ],
   "source": [
    "# Check your python version, we need Python3 to run the following code\n",
    "from platform import python_version\n",
    "print(python_version())"
   ]
  },
  {
   "cell_type": "code",
   "execution_count": 3,
   "id": "45794121",
   "metadata": {},
   "outputs": [
    {
     "data": {
      "text/plain": [
       "'1.4.0'"
      ]
     },
     "execution_count": 3,
     "metadata": {},
     "output_type": "execute_result"
    }
   ],
   "source": [
    "# Check the version of your sklearn package\n",
    "# In coding and debugging, make sure you refer to the **correct version of the documentation**\n",
    "sklearn.__version__"
   ]
  },
  {
   "cell_type": "markdown",
   "id": "530882b1",
   "metadata": {},
   "source": [
    "### Train and Test a Decision Tree classifier"
   ]
  },
  {
   "cell_type": "markdown",
   "id": "712cde84",
   "metadata": {},
   "source": [
    "In this task, we will load a dataset, train a decision tree classifier on the training set, and test the classifier performance on the testing set. Here are the suggested steps: <br>\n",
    "1. Import the necessary packages. <br>\n",
    "\n",
    "**Prepare data**<br><br>\n",
    "2. <u>_Load_</u> the iris dataset. <br>\n",
    "    ---> More information about the dataset can be found here: https://scikit-learn.org/stable/auto_examples/datasets/plot_iris_dataset.html.<br>\n",
    "3. Prepare the <u>_input feature matrix and the target variable_</u>. Then, split data into training and testing set.\n",
    "<br><br>\n",
    "\n",
    "**Model training and evaluation**<br>\n",
    "4. Create a DecisionTreeClassifier object. <br>\n",
    "    ---> Documentation: https://scikit-learn.org/stable/modules/generated/sklearn.tree.DecisionTreeClassifier.html. <br>\n",
    "    ---> Let's set criterion = \"entropy\" and random_state = 42, and keep all the other parameters with the default value.<br>\n",
    "5. <u>_Fit_</u> the DecisionTreeClassifier on the training set.<br>\n",
    "6. <u>_Evaluate_</u> the DecisionTreeClassifier performance using the \"score\" function on the testing set. \n",
    "<br><br>\n",
    "\n",
    "**Visualization and result analysis** <br>\n",
    "7. Visualize the fitted DecisionTreeClassifier and interpret its performance. <br>\n",
    "    ---> More information on plotting decision trees can be found here: https://scikit-learn.org/stable/modules/tree.html\n",
    "<br><br>\n",
    "\n",
    "**Exploration**<br>\n",
    "8. Finally, play with different values of model parameters. Explore how the model performance change with different parameter settings and how the visualized trees change.<br>"
   ]
  },
  {
   "cell_type": "code",
   "execution_count": 4,
   "id": "cf31395a",
   "metadata": {},
   "outputs": [],
   "source": [
    "# 1. import related packages\n",
    "from sklearn.datasets import load_iris"
   ]
  },
  {
   "cell_type": "markdown",
   "id": "e5f415ac",
   "metadata": {},
   "source": [
    "#### Prepare data"
   ]
  },
  {
   "cell_type": "code",
   "execution_count": 5,
   "id": "f456ab4d",
   "metadata": {},
   "outputs": [],
   "source": [
    "# 2. load the dataset\n",
    "iris = load_iris()"
   ]
  },
  {
   "cell_type": "code",
   "execution_count": 6,
   "id": "fcec5991",
   "metadata": {},
   "outputs": [
    {
     "data": {
      "text/html": [
       "<div>\n",
       "<style scoped>\n",
       "    .dataframe tbody tr th:only-of-type {\n",
       "        vertical-align: middle;\n",
       "    }\n",
       "\n",
       "    .dataframe tbody tr th {\n",
       "        vertical-align: top;\n",
       "    }\n",
       "\n",
       "    .dataframe thead th {\n",
       "        text-align: right;\n",
       "    }\n",
       "</style>\n",
       "<table border=\"1\" class=\"dataframe\">\n",
       "  <thead>\n",
       "    <tr style=\"text-align: right;\">\n",
       "      <th></th>\n",
       "      <th>sepal length (cm)</th>\n",
       "      <th>sepal width (cm)</th>\n",
       "      <th>petal length (cm)</th>\n",
       "      <th>petal width (cm)</th>\n",
       "      <th>target</th>\n",
       "    </tr>\n",
       "  </thead>\n",
       "  <tbody>\n",
       "    <tr>\n",
       "      <th>0</th>\n",
       "      <td>5.1</td>\n",
       "      <td>3.5</td>\n",
       "      <td>1.4</td>\n",
       "      <td>0.2</td>\n",
       "      <td>0</td>\n",
       "    </tr>\n",
       "    <tr>\n",
       "      <th>1</th>\n",
       "      <td>4.9</td>\n",
       "      <td>3.0</td>\n",
       "      <td>1.4</td>\n",
       "      <td>0.2</td>\n",
       "      <td>0</td>\n",
       "    </tr>\n",
       "    <tr>\n",
       "      <th>2</th>\n",
       "      <td>4.7</td>\n",
       "      <td>3.2</td>\n",
       "      <td>1.3</td>\n",
       "      <td>0.2</td>\n",
       "      <td>0</td>\n",
       "    </tr>\n",
       "    <tr>\n",
       "      <th>3</th>\n",
       "      <td>4.6</td>\n",
       "      <td>3.1</td>\n",
       "      <td>1.5</td>\n",
       "      <td>0.2</td>\n",
       "      <td>0</td>\n",
       "    </tr>\n",
       "    <tr>\n",
       "      <th>4</th>\n",
       "      <td>5.0</td>\n",
       "      <td>3.6</td>\n",
       "      <td>1.4</td>\n",
       "      <td>0.2</td>\n",
       "      <td>0</td>\n",
       "    </tr>\n",
       "    <tr>\n",
       "      <th>...</th>\n",
       "      <td>...</td>\n",
       "      <td>...</td>\n",
       "      <td>...</td>\n",
       "      <td>...</td>\n",
       "      <td>...</td>\n",
       "    </tr>\n",
       "    <tr>\n",
       "      <th>145</th>\n",
       "      <td>6.7</td>\n",
       "      <td>3.0</td>\n",
       "      <td>5.2</td>\n",
       "      <td>2.3</td>\n",
       "      <td>2</td>\n",
       "    </tr>\n",
       "    <tr>\n",
       "      <th>146</th>\n",
       "      <td>6.3</td>\n",
       "      <td>2.5</td>\n",
       "      <td>5.0</td>\n",
       "      <td>1.9</td>\n",
       "      <td>2</td>\n",
       "    </tr>\n",
       "    <tr>\n",
       "      <th>147</th>\n",
       "      <td>6.5</td>\n",
       "      <td>3.0</td>\n",
       "      <td>5.2</td>\n",
       "      <td>2.0</td>\n",
       "      <td>2</td>\n",
       "    </tr>\n",
       "    <tr>\n",
       "      <th>148</th>\n",
       "      <td>6.2</td>\n",
       "      <td>3.4</td>\n",
       "      <td>5.4</td>\n",
       "      <td>2.3</td>\n",
       "      <td>2</td>\n",
       "    </tr>\n",
       "    <tr>\n",
       "      <th>149</th>\n",
       "      <td>5.9</td>\n",
       "      <td>3.0</td>\n",
       "      <td>5.1</td>\n",
       "      <td>1.8</td>\n",
       "      <td>2</td>\n",
       "    </tr>\n",
       "  </tbody>\n",
       "</table>\n",
       "<p>150 rows × 5 columns</p>\n",
       "</div>"
      ],
      "text/plain": [
       "     sepal length (cm)  sepal width (cm)  petal length (cm)  petal width (cm)  \\\n",
       "0                  5.1               3.5                1.4               0.2   \n",
       "1                  4.9               3.0                1.4               0.2   \n",
       "2                  4.7               3.2                1.3               0.2   \n",
       "3                  4.6               3.1                1.5               0.2   \n",
       "4                  5.0               3.6                1.4               0.2   \n",
       "..                 ...               ...                ...               ...   \n",
       "145                6.7               3.0                5.2               2.3   \n",
       "146                6.3               2.5                5.0               1.9   \n",
       "147                6.5               3.0                5.2               2.0   \n",
       "148                6.2               3.4                5.4               2.3   \n",
       "149                5.9               3.0                5.1               1.8   \n",
       "\n",
       "     target  \n",
       "0         0  \n",
       "1         0  \n",
       "2         0  \n",
       "3         0  \n",
       "4         0  \n",
       "..      ...  \n",
       "145       2  \n",
       "146       2  \n",
       "147       2  \n",
       "148       2  \n",
       "149       2  \n",
       "\n",
       "[150 rows x 5 columns]"
      ]
     },
     "execution_count": 6,
     "metadata": {},
     "output_type": "execute_result"
    }
   ],
   "source": [
    "# 2. display the dataset as a pandas dataframe\n",
    "df_iris = pd.DataFrame(iris.data, columns=iris.feature_names)\n",
    "df_iris['target'] = iris.target\n",
    "df_iris"
   ]
  },
  {
   "cell_type": "code",
   "execution_count": 7,
   "id": "5f5bb935",
   "metadata": {},
   "outputs": [
    {
     "data": {
      "text/plain": [
       "Counter({0: 50, 1: 50, 2: 50})"
      ]
     },
     "execution_count": 7,
     "metadata": {},
     "output_type": "execute_result"
    }
   ],
   "source": [
    "# if the target variable is discrete, check the label distribution of the target variable\n",
    "Counter(df_iris.target)"
   ]
  },
  {
   "cell_type": "code",
   "execution_count": 8,
   "id": "2493590c",
   "metadata": {},
   "outputs": [
    {
     "data": {
      "text/plain": [
       "((150, 4), (150,))"
      ]
     },
     "execution_count": 8,
     "metadata": {},
     "output_type": "execute_result"
    }
   ],
   "source": [
    "# 3. Get the input feature matrix and target variable, prepare for model fitting\n",
    "X,y = iris.data, iris.target\n",
    "X.shape, y.shape"
   ]
  },
  {
   "cell_type": "code",
   "execution_count": 9,
   "id": "ba14da41",
   "metadata": {},
   "outputs": [
    {
     "data": {
      "text/plain": [
       "((105, 4), (45, 4))"
      ]
     },
     "execution_count": 9,
     "metadata": {},
     "output_type": "execute_result"
    }
   ],
   "source": [
    "# 3. split the data into training and testing set\n",
    "X_train, X_test, y_train, y_test = train_test_split(X, y, test_size=0.3, random_state=42)\n",
    "X_train.shape, X_test.shape"
   ]
  },
  {
   "cell_type": "markdown",
   "id": "5f1670b5",
   "metadata": {},
   "source": [
    "#### Model training and evaluation"
   ]
  },
  {
   "cell_type": "code",
   "execution_count": 10,
   "id": "edeed738",
   "metadata": {},
   "outputs": [],
   "source": [
    "from sklearn.tree import DecisionTreeClassifier"
   ]
  },
  {
   "cell_type": "code",
   "execution_count": 11,
   "id": "f208ee58",
   "metadata": {},
   "outputs": [],
   "source": [
    "# 4. Create a DecisionTreeClassifier object.  \n",
    "# set criterion = \"entropy\" and random_state = 42, and keep all the other parameters with the default value.\n",
    "dt_clf = DecisionTreeClassifier(random_state=42,criterion='entropy') "
   ]
  },
  {
   "cell_type": "code",
   "execution_count": 12,
   "id": "f267d016",
   "metadata": {},
   "outputs": [],
   "source": [
    "# 5. \"fit\" the DecisionTreeClassifier on the training set\n",
    "dt_clf = dt_clf.fit(X_train, y_train)"
   ]
  },
  {
   "cell_type": "code",
   "execution_count": 13,
   "id": "cfacbbf1",
   "metadata": {},
   "outputs": [
    {
     "data": {
      "text/plain": [
       "0.978"
      ]
     },
     "execution_count": 13,
     "metadata": {},
     "output_type": "execute_result"
    }
   ],
   "source": [
    "# 6. Evaluate the DecisionTreeClassifier performance on the testing set\n",
    "# Round it to the 3rd decimal (e.g., 0.800, 0.850, 0.862).\n",
    "np.round(dt_clf.score(X_test,y_test),3)"
   ]
  },
  {
   "cell_type": "markdown",
   "id": "9876d944",
   "metadata": {},
   "source": [
    "#### Visualization and result analysis"
   ]
  },
  {
   "cell_type": "code",
   "execution_count": 18,
   "id": "3b4c5328",
   "metadata": {},
   "outputs": [
    {
     "data": {
      "image/svg+xml": [
       "<?xml version=\"1.0\" encoding=\"UTF-8\" standalone=\"no\"?>\n",
       "<!DOCTYPE svg PUBLIC \"-//W3C//DTD SVG 1.1//EN\"\n",
       " \"http://www.w3.org/Graphics/SVG/1.1/DTD/svg11.dtd\">\n",
       "<!-- Generated by graphviz version 9.0.0 (20230911.1827)\n",
       " -->\n",
       "<!-- Title: Tree Pages: 1 -->\n",
       "<svg width=\"638pt\" height=\"909pt\"\n",
       " viewBox=\"0.00 0.00 638.25 909.00\" xmlns=\"http://www.w3.org/2000/svg\" xmlns:xlink=\"http://www.w3.org/1999/xlink\">\n",
       "<g id=\"graph0\" class=\"graph\" transform=\"scale(1 1) rotate(0) translate(4 905)\">\n",
       "<title>Tree</title>\n",
       "<polygon fill=\"white\" stroke=\"none\" points=\"-4,4 -4,-905 634.25,-905 634.25,4 -4,4\"/>\n",
       "<!-- 0 -->\n",
       "<g id=\"node1\" class=\"node\">\n",
       "<title>0</title>\n",
       "<path fill=\"#ffffff\" stroke=\"black\" d=\"M263.38,-901C263.38,-901 128.88,-901 128.88,-901 122.88,-901 116.88,-895 116.88,-889 116.88,-889 116.88,-830 116.88,-830 116.88,-824 122.88,-818 128.88,-818 128.88,-818 263.38,-818 263.38,-818 269.38,-818 275.38,-824 275.38,-830 275.38,-830 275.38,-889 275.38,-889 275.38,-895 269.38,-901 263.38,-901\"/>\n",
       "<text text-anchor=\"start\" x=\"124.88\" y=\"-883.7\" font-family=\"Helvetica,sans-Serif\" font-size=\"14.00\">petal length (cm) ≤ 2.45</text>\n",
       "<text text-anchor=\"start\" x=\"152.62\" y=\"-868.7\" font-family=\"Helvetica,sans-Serif\" font-size=\"14.00\">entropy = 1.58</text>\n",
       "<text text-anchor=\"start\" x=\"151.5\" y=\"-853.7\" font-family=\"Helvetica,sans-Serif\" font-size=\"14.00\">samples = 105</text>\n",
       "<text text-anchor=\"start\" x=\"138.38\" y=\"-838.7\" font-family=\"Helvetica,sans-Serif\" font-size=\"14.00\">value = [31, 37, 37]</text>\n",
       "<text text-anchor=\"start\" x=\"144\" y=\"-823.7\" font-family=\"Helvetica,sans-Serif\" font-size=\"14.00\">class = versicolor</text>\n",
       "</g>\n",
       "<!-- 1 -->\n",
       "<g id=\"node2\" class=\"node\">\n",
       "<title>1</title>\n",
       "<path fill=\"#e58139\" stroke=\"black\" d=\"M164.38,-774.5C164.38,-774.5 71.88,-774.5 71.88,-774.5 65.88,-774.5 59.88,-768.5 59.88,-762.5 59.88,-762.5 59.88,-718.5 59.88,-718.5 59.88,-712.5 65.88,-706.5 71.88,-706.5 71.88,-706.5 164.38,-706.5 164.38,-706.5 170.38,-706.5 176.38,-712.5 176.38,-718.5 176.38,-718.5 176.38,-762.5 176.38,-762.5 176.38,-768.5 170.38,-774.5 164.38,-774.5\"/>\n",
       "<text text-anchor=\"start\" x=\"78.38\" y=\"-757.2\" font-family=\"Helvetica,sans-Serif\" font-size=\"14.00\">entropy = 0.0</text>\n",
       "<text text-anchor=\"start\" x=\"77.25\" y=\"-742.2\" font-family=\"Helvetica,sans-Serif\" font-size=\"14.00\">samples = 31</text>\n",
       "<text text-anchor=\"start\" x=\"67.88\" y=\"-727.2\" font-family=\"Helvetica,sans-Serif\" font-size=\"14.00\">value = [31, 0, 0]</text>\n",
       "<text text-anchor=\"start\" x=\"75\" y=\"-712.2\" font-family=\"Helvetica,sans-Serif\" font-size=\"14.00\">class = setosa</text>\n",
       "</g>\n",
       "<!-- 0&#45;&gt;1 -->\n",
       "<g id=\"edge1\" class=\"edge\">\n",
       "<title>0&#45;&gt;1</title>\n",
       "<path fill=\"none\" stroke=\"black\" d=\"M168.84,-817.58C161.64,-806.77 153.85,-795.09 146.59,-784.19\"/>\n",
       "<polygon fill=\"black\" stroke=\"black\" points=\"149.66,-782.5 141.21,-776.12 143.84,-786.38 149.66,-782.5\"/>\n",
       "<text text-anchor=\"middle\" x=\"135.46\" y=\"-793.58\" font-family=\"Helvetica,sans-Serif\" font-size=\"14.00\">True</text>\n",
       "</g>\n",
       "<!-- 2 -->\n",
       "<g id=\"node3\" class=\"node\">\n",
       "<title>2</title>\n",
       "<path fill=\"#ffffff\" stroke=\"black\" d=\"M341.38,-782C341.38,-782 206.88,-782 206.88,-782 200.88,-782 194.88,-776 194.88,-770 194.88,-770 194.88,-711 194.88,-711 194.88,-705 200.88,-699 206.88,-699 206.88,-699 341.38,-699 341.38,-699 347.38,-699 353.38,-705 353.38,-711 353.38,-711 353.38,-770 353.38,-770 353.38,-776 347.38,-782 341.38,-782\"/>\n",
       "<text text-anchor=\"start\" x=\"202.88\" y=\"-764.7\" font-family=\"Helvetica,sans-Serif\" font-size=\"14.00\">petal length (cm) ≤ 4.75</text>\n",
       "<text text-anchor=\"start\" x=\"234.38\" y=\"-749.7\" font-family=\"Helvetica,sans-Serif\" font-size=\"14.00\">entropy = 1.0</text>\n",
       "<text text-anchor=\"start\" x=\"233.25\" y=\"-734.7\" font-family=\"Helvetica,sans-Serif\" font-size=\"14.00\">samples = 74</text>\n",
       "<text text-anchor=\"start\" x=\"220.12\" y=\"-719.7\" font-family=\"Helvetica,sans-Serif\" font-size=\"14.00\">value = [0, 37, 37]</text>\n",
       "<text text-anchor=\"start\" x=\"222\" y=\"-704.7\" font-family=\"Helvetica,sans-Serif\" font-size=\"14.00\">class = versicolor</text>\n",
       "</g>\n",
       "<!-- 0&#45;&gt;2 -->\n",
       "<g id=\"edge2\" class=\"edge\">\n",
       "<title>0&#45;&gt;2</title>\n",
       "<path fill=\"none\" stroke=\"black\" d=\"M223.41,-817.58C229.02,-809.16 234.99,-800.2 240.79,-791.5\"/>\n",
       "<polygon fill=\"black\" stroke=\"black\" points=\"243.52,-793.72 246.15,-783.46 237.69,-789.84 243.52,-793.72\"/>\n",
       "<text text-anchor=\"middle\" x=\"251.89\" y=\"-800.91\" font-family=\"Helvetica,sans-Serif\" font-size=\"14.00\">False</text>\n",
       "</g>\n",
       "<!-- 3 -->\n",
       "<g id=\"node4\" class=\"node\">\n",
       "<title>3</title>\n",
       "<path fill=\"#3fe685\" stroke=\"black\" d=\"M250,-663C250,-663 128.25,-663 128.25,-663 122.25,-663 116.25,-657 116.25,-651 116.25,-651 116.25,-592 116.25,-592 116.25,-586 122.25,-580 128.25,-580 128.25,-580 250,-580 250,-580 256,-580 262,-586 262,-592 262,-592 262,-651 262,-651 262,-657 256,-663 250,-663\"/>\n",
       "<text text-anchor=\"start\" x=\"124.25\" y=\"-645.7\" font-family=\"Helvetica,sans-Serif\" font-size=\"14.00\">petal width (cm) ≤ 1.6</text>\n",
       "<text text-anchor=\"start\" x=\"141.88\" y=\"-630.7\" font-family=\"Helvetica,sans-Serif\" font-size=\"14.00\">entropy = 0.196</text>\n",
       "<text text-anchor=\"start\" x=\"148.25\" y=\"-615.7\" font-family=\"Helvetica,sans-Serif\" font-size=\"14.00\">samples = 33</text>\n",
       "<text text-anchor=\"start\" x=\"138.88\" y=\"-600.7\" font-family=\"Helvetica,sans-Serif\" font-size=\"14.00\">value = [0, 32, 1]</text>\n",
       "<text text-anchor=\"start\" x=\"137\" y=\"-585.7\" font-family=\"Helvetica,sans-Serif\" font-size=\"14.00\">class = versicolor</text>\n",
       "</g>\n",
       "<!-- 2&#45;&gt;3 -->\n",
       "<g id=\"edge3\" class=\"edge\">\n",
       "<title>2&#45;&gt;3</title>\n",
       "<path fill=\"none\" stroke=\"black\" d=\"M244.4,-698.58C238.28,-690.16 231.77,-681.2 225.45,-672.5\"/>\n",
       "<polygon fill=\"black\" stroke=\"black\" points=\"228.29,-670.46 219.58,-664.42 222.63,-674.57 228.29,-670.46\"/>\n",
       "</g>\n",
       "<!-- 6 -->\n",
       "<g id=\"node7\" class=\"node\">\n",
       "<title>6</title>\n",
       "<path fill=\"#9254e9\" stroke=\"black\" d=\"M426.38,-663C426.38,-663 291.88,-663 291.88,-663 285.88,-663 279.88,-657 279.88,-651 279.88,-651 279.88,-592 279.88,-592 279.88,-586 285.88,-580 291.88,-580 291.88,-580 426.38,-580 426.38,-580 432.38,-580 438.38,-586 438.38,-592 438.38,-592 438.38,-651 438.38,-651 438.38,-657 432.38,-663 426.38,-663\"/>\n",
       "<text text-anchor=\"start\" x=\"287.88\" y=\"-645.7\" font-family=\"Helvetica,sans-Serif\" font-size=\"14.00\">petal length (cm) ≤ 5.15</text>\n",
       "<text text-anchor=\"start\" x=\"311.88\" y=\"-630.7\" font-family=\"Helvetica,sans-Serif\" font-size=\"14.00\">entropy = 0.535</text>\n",
       "<text text-anchor=\"start\" x=\"318.25\" y=\"-615.7\" font-family=\"Helvetica,sans-Serif\" font-size=\"14.00\">samples = 41</text>\n",
       "<text text-anchor=\"start\" x=\"308.88\" y=\"-600.7\" font-family=\"Helvetica,sans-Serif\" font-size=\"14.00\">value = [0, 5, 36]</text>\n",
       "<text text-anchor=\"start\" x=\"311.12\" y=\"-585.7\" font-family=\"Helvetica,sans-Serif\" font-size=\"14.00\">class = virginica</text>\n",
       "</g>\n",
       "<!-- 2&#45;&gt;6 -->\n",
       "<g id=\"edge6\" class=\"edge\">\n",
       "<title>2&#45;&gt;6</title>\n",
       "<path fill=\"none\" stroke=\"black\" d=\"M303.85,-698.58C309.97,-690.16 316.48,-681.2 322.8,-672.5\"/>\n",
       "<polygon fill=\"black\" stroke=\"black\" points=\"325.62,-674.57 328.67,-664.42 319.96,-670.46 325.62,-674.57\"/>\n",
       "</g>\n",
       "<!-- 4 -->\n",
       "<g id=\"node5\" class=\"node\">\n",
       "<title>4</title>\n",
       "<path fill=\"#39e581\" stroke=\"black\" d=\"M108.25,-536.5C108.25,-536.5 12,-536.5 12,-536.5 6,-536.5 0,-530.5 0,-524.5 0,-524.5 0,-480.5 0,-480.5 0,-474.5 6,-468.5 12,-468.5 12,-468.5 108.25,-468.5 108.25,-468.5 114.25,-468.5 120.25,-474.5 120.25,-480.5 120.25,-480.5 120.25,-524.5 120.25,-524.5 120.25,-530.5 114.25,-536.5 108.25,-536.5\"/>\n",
       "<text text-anchor=\"start\" x=\"20.38\" y=\"-519.2\" font-family=\"Helvetica,sans-Serif\" font-size=\"14.00\">entropy = 0.0</text>\n",
       "<text text-anchor=\"start\" x=\"19.25\" y=\"-504.2\" font-family=\"Helvetica,sans-Serif\" font-size=\"14.00\">samples = 32</text>\n",
       "<text text-anchor=\"start\" x=\"9.88\" y=\"-489.2\" font-family=\"Helvetica,sans-Serif\" font-size=\"14.00\">value = [0, 32, 0]</text>\n",
       "<text text-anchor=\"start\" x=\"8\" y=\"-474.2\" font-family=\"Helvetica,sans-Serif\" font-size=\"14.00\">class = versicolor</text>\n",
       "</g>\n",
       "<!-- 3&#45;&gt;4 -->\n",
       "<g id=\"edge4\" class=\"edge\">\n",
       "<title>3&#45;&gt;4</title>\n",
       "<path fill=\"none\" stroke=\"black\" d=\"M144.01,-579.58C131.49,-568.23 117.9,-555.9 105.38,-544.55\"/>\n",
       "<polygon fill=\"black\" stroke=\"black\" points=\"107.79,-542 98.03,-537.88 103.08,-547.19 107.79,-542\"/>\n",
       "</g>\n",
       "<!-- 5 -->\n",
       "<g id=\"node6\" class=\"node\">\n",
       "<title>5</title>\n",
       "<path fill=\"#8139e5\" stroke=\"black\" d=\"M238.12,-536.5C238.12,-536.5 150.12,-536.5 150.12,-536.5 144.12,-536.5 138.12,-530.5 138.12,-524.5 138.12,-524.5 138.12,-480.5 138.12,-480.5 138.12,-474.5 144.12,-468.5 150.12,-468.5 150.12,-468.5 238.12,-468.5 238.12,-468.5 244.12,-468.5 250.12,-474.5 250.12,-480.5 250.12,-480.5 250.12,-524.5 250.12,-524.5 250.12,-530.5 244.12,-536.5 238.12,-536.5\"/>\n",
       "<text text-anchor=\"start\" x=\"154.38\" y=\"-519.2\" font-family=\"Helvetica,sans-Serif\" font-size=\"14.00\">entropy = 0.0</text>\n",
       "<text text-anchor=\"start\" x=\"157\" y=\"-504.2\" font-family=\"Helvetica,sans-Serif\" font-size=\"14.00\">samples = 1</text>\n",
       "<text text-anchor=\"start\" x=\"147.62\" y=\"-489.2\" font-family=\"Helvetica,sans-Serif\" font-size=\"14.00\">value = [0, 0, 1]</text>\n",
       "<text text-anchor=\"start\" x=\"146.12\" y=\"-474.2\" font-family=\"Helvetica,sans-Serif\" font-size=\"14.00\">class = virginica</text>\n",
       "</g>\n",
       "<!-- 3&#45;&gt;5 -->\n",
       "<g id=\"edge5\" class=\"edge\">\n",
       "<title>3&#45;&gt;5</title>\n",
       "<path fill=\"none\" stroke=\"black\" d=\"M190.87,-579.58C191.31,-569.43 191.77,-558.5 192.22,-548.18\"/>\n",
       "<polygon fill=\"black\" stroke=\"black\" points=\"195.7,-548.51 192.63,-538.37 188.71,-548.21 195.7,-548.51\"/>\n",
       "</g>\n",
       "<!-- 7 -->\n",
       "<g id=\"node8\" class=\"node\">\n",
       "<title>7</title>\n",
       "<path fill=\"#c09cf2\" stroke=\"black\" d=\"M418.75,-544C418.75,-544 289.5,-544 289.5,-544 283.5,-544 277.5,-538 277.5,-532 277.5,-532 277.5,-473 277.5,-473 277.5,-467 283.5,-461 289.5,-461 289.5,-461 418.75,-461 418.75,-461 424.75,-461 430.75,-467 430.75,-473 430.75,-473 430.75,-532 430.75,-532 430.75,-538 424.75,-544 418.75,-544\"/>\n",
       "<text text-anchor=\"start\" x=\"285.5\" y=\"-526.7\" font-family=\"Helvetica,sans-Serif\" font-size=\"14.00\">petal width (cm) ≤ 1.75</text>\n",
       "<text text-anchor=\"start\" x=\"306.88\" y=\"-511.7\" font-family=\"Helvetica,sans-Serif\" font-size=\"14.00\">entropy = 0.918</text>\n",
       "<text text-anchor=\"start\" x=\"313.25\" y=\"-496.7\" font-family=\"Helvetica,sans-Serif\" font-size=\"14.00\">samples = 15</text>\n",
       "<text text-anchor=\"start\" x=\"303.88\" y=\"-481.7\" font-family=\"Helvetica,sans-Serif\" font-size=\"14.00\">value = [0, 5, 10]</text>\n",
       "<text text-anchor=\"start\" x=\"306.12\" y=\"-466.7\" font-family=\"Helvetica,sans-Serif\" font-size=\"14.00\">class = virginica</text>\n",
       "</g>\n",
       "<!-- 6&#45;&gt;7 -->\n",
       "<g id=\"edge7\" class=\"edge\">\n",
       "<title>6&#45;&gt;7</title>\n",
       "<path fill=\"none\" stroke=\"black\" d=\"M357.38,-579.58C357.04,-571.79 356.69,-563.53 356.35,-555.45\"/>\n",
       "<polygon fill=\"black\" stroke=\"black\" points=\"359.85,-555.55 355.93,-545.71 352.86,-555.85 359.85,-555.55\"/>\n",
       "</g>\n",
       "<!-- 18 -->\n",
       "<g id=\"node19\" class=\"node\">\n",
       "<title>18</title>\n",
       "<path fill=\"#8139e5\" stroke=\"black\" d=\"M553.38,-536.5C553.38,-536.5 460.88,-536.5 460.88,-536.5 454.88,-536.5 448.88,-530.5 448.88,-524.5 448.88,-524.5 448.88,-480.5 448.88,-480.5 448.88,-474.5 454.88,-468.5 460.88,-468.5 460.88,-468.5 553.38,-468.5 553.38,-468.5 559.38,-468.5 565.38,-474.5 565.38,-480.5 565.38,-480.5 565.38,-524.5 565.38,-524.5 565.38,-530.5 559.38,-536.5 553.38,-536.5\"/>\n",
       "<text text-anchor=\"start\" x=\"467.38\" y=\"-519.2\" font-family=\"Helvetica,sans-Serif\" font-size=\"14.00\">entropy = 0.0</text>\n",
       "<text text-anchor=\"start\" x=\"466.25\" y=\"-504.2\" font-family=\"Helvetica,sans-Serif\" font-size=\"14.00\">samples = 26</text>\n",
       "<text text-anchor=\"start\" x=\"456.88\" y=\"-489.2\" font-family=\"Helvetica,sans-Serif\" font-size=\"14.00\">value = [0, 0, 26]</text>\n",
       "<text text-anchor=\"start\" x=\"459.12\" y=\"-474.2\" font-family=\"Helvetica,sans-Serif\" font-size=\"14.00\">class = virginica</text>\n",
       "</g>\n",
       "<!-- 6&#45;&gt;18 -->\n",
       "<g id=\"edge18\" class=\"edge\">\n",
       "<title>6&#45;&gt;18</title>\n",
       "<path fill=\"none\" stroke=\"black\" d=\"M410.89,-579.58C425.52,-568.01 441.44,-555.43 456.03,-543.89\"/>\n",
       "<polygon fill=\"black\" stroke=\"black\" points=\"458.06,-546.75 463.74,-537.8 453.72,-541.26 458.06,-546.75\"/>\n",
       "</g>\n",
       "<!-- 8 -->\n",
       "<g id=\"node9\" class=\"node\">\n",
       "<title>8</title>\n",
       "<path fill=\"#9cf2c0\" stroke=\"black\" d=\"M335.25,-425C335.25,-425 203,-425 203,-425 197,-425 191,-419 191,-413 191,-413 191,-354 191,-354 191,-348 197,-342 203,-342 203,-342 335.25,-342 335.25,-342 341.25,-342 347.25,-348 347.25,-354 347.25,-354 347.25,-413 347.25,-413 347.25,-419 341.25,-425 335.25,-425\"/>\n",
       "<text text-anchor=\"start\" x=\"199\" y=\"-407.7\" font-family=\"Helvetica,sans-Serif\" font-size=\"14.00\">sepal width (cm) ≤ 2.35</text>\n",
       "<text text-anchor=\"start\" x=\"221.88\" y=\"-392.7\" font-family=\"Helvetica,sans-Serif\" font-size=\"14.00\">entropy = 0.918</text>\n",
       "<text text-anchor=\"start\" x=\"232\" y=\"-377.7\" font-family=\"Helvetica,sans-Serif\" font-size=\"14.00\">samples = 6</text>\n",
       "<text text-anchor=\"start\" x=\"222.62\" y=\"-362.7\" font-family=\"Helvetica,sans-Serif\" font-size=\"14.00\">value = [0, 4, 2]</text>\n",
       "<text text-anchor=\"start\" x=\"217\" y=\"-347.7\" font-family=\"Helvetica,sans-Serif\" font-size=\"14.00\">class = versicolor</text>\n",
       "</g>\n",
       "<!-- 7&#45;&gt;8 -->\n",
       "<g id=\"edge8\" class=\"edge\">\n",
       "<title>7&#45;&gt;8</title>\n",
       "<path fill=\"none\" stroke=\"black\" d=\"M324.4,-460.58C318.28,-452.16 311.77,-443.2 305.45,-434.5\"/>\n",
       "<polygon fill=\"black\" stroke=\"black\" points=\"308.29,-432.46 299.58,-426.42 302.63,-436.57 308.29,-432.46\"/>\n",
       "</g>\n",
       "<!-- 15 -->\n",
       "<g id=\"node16\" class=\"node\">\n",
       "<title>15</title>\n",
       "<path fill=\"#9152e8\" stroke=\"black\" d=\"M502.5,-425C502.5,-425 377.75,-425 377.75,-425 371.75,-425 365.75,-419 365.75,-413 365.75,-413 365.75,-354 365.75,-354 365.75,-348 371.75,-342 377.75,-342 377.75,-342 502.5,-342 502.5,-342 508.5,-342 514.5,-348 514.5,-354 514.5,-354 514.5,-413 514.5,-413 514.5,-419 508.5,-425 502.5,-425\"/>\n",
       "<text text-anchor=\"start\" x=\"373.75\" y=\"-407.7\" font-family=\"Helvetica,sans-Serif\" font-size=\"14.00\">sepal width (cm) ≤ 3.1</text>\n",
       "<text text-anchor=\"start\" x=\"392.88\" y=\"-392.7\" font-family=\"Helvetica,sans-Serif\" font-size=\"14.00\">entropy = 0.503</text>\n",
       "<text text-anchor=\"start\" x=\"403\" y=\"-377.7\" font-family=\"Helvetica,sans-Serif\" font-size=\"14.00\">samples = 9</text>\n",
       "<text text-anchor=\"start\" x=\"393.62\" y=\"-362.7\" font-family=\"Helvetica,sans-Serif\" font-size=\"14.00\">value = [0, 1, 8]</text>\n",
       "<text text-anchor=\"start\" x=\"392.12\" y=\"-347.7\" font-family=\"Helvetica,sans-Serif\" font-size=\"14.00\">class = virginica</text>\n",
       "</g>\n",
       "<!-- 7&#45;&gt;15 -->\n",
       "<g id=\"edge15\" class=\"edge\">\n",
       "<title>7&#45;&gt;15</title>\n",
       "<path fill=\"none\" stroke=\"black\" d=\"M384.2,-460.58C390.46,-452.07 397.12,-443.01 403.57,-434.23\"/>\n",
       "<polygon fill=\"black\" stroke=\"black\" points=\"406.21,-436.55 409.31,-426.42 400.57,-432.4 406.21,-436.55\"/>\n",
       "</g>\n",
       "<!-- 9 -->\n",
       "<g id=\"node10\" class=\"node\">\n",
       "<title>9</title>\n",
       "<path fill=\"#8139e5\" stroke=\"black\" d=\"M165.12,-298.5C165.12,-298.5 77.12,-298.5 77.12,-298.5 71.12,-298.5 65.12,-292.5 65.12,-286.5 65.12,-286.5 65.12,-242.5 65.12,-242.5 65.12,-236.5 71.12,-230.5 77.12,-230.5 77.12,-230.5 165.12,-230.5 165.12,-230.5 171.12,-230.5 177.12,-236.5 177.12,-242.5 177.12,-242.5 177.12,-286.5 177.12,-286.5 177.12,-292.5 171.12,-298.5 165.12,-298.5\"/>\n",
       "<text text-anchor=\"start\" x=\"81.38\" y=\"-281.2\" font-family=\"Helvetica,sans-Serif\" font-size=\"14.00\">entropy = 0.0</text>\n",
       "<text text-anchor=\"start\" x=\"84\" y=\"-266.2\" font-family=\"Helvetica,sans-Serif\" font-size=\"14.00\">samples = 1</text>\n",
       "<text text-anchor=\"start\" x=\"74.62\" y=\"-251.2\" font-family=\"Helvetica,sans-Serif\" font-size=\"14.00\">value = [0, 0, 1]</text>\n",
       "<text text-anchor=\"start\" x=\"73.12\" y=\"-236.2\" font-family=\"Helvetica,sans-Serif\" font-size=\"14.00\">class = virginica</text>\n",
       "</g>\n",
       "<!-- 8&#45;&gt;9 -->\n",
       "<g id=\"edge9\" class=\"edge\">\n",
       "<title>8&#45;&gt;9</title>\n",
       "<path fill=\"none\" stroke=\"black\" d=\"M217.36,-341.58C202.73,-330.01 186.81,-317.43 172.22,-305.89\"/>\n",
       "<polygon fill=\"black\" stroke=\"black\" points=\"174.53,-303.26 164.51,-299.8 170.19,-308.75 174.53,-303.26\"/>\n",
       "</g>\n",
       "<!-- 10 -->\n",
       "<g id=\"node11\" class=\"node\">\n",
       "<title>10</title>\n",
       "<path fill=\"#6aeca0\" stroke=\"black\" d=\"M341.38,-306C341.38,-306 206.88,-306 206.88,-306 200.88,-306 194.88,-300 194.88,-294 194.88,-294 194.88,-235 194.88,-235 194.88,-229 200.88,-223 206.88,-223 206.88,-223 341.38,-223 341.38,-223 347.38,-223 353.38,-229 353.38,-235 353.38,-235 353.38,-294 353.38,-294 353.38,-300 347.38,-306 341.38,-306\"/>\n",
       "<text text-anchor=\"start\" x=\"202.88\" y=\"-288.7\" font-family=\"Helvetica,sans-Serif\" font-size=\"14.00\">petal length (cm) ≤ 5.05</text>\n",
       "<text text-anchor=\"start\" x=\"226.88\" y=\"-273.7\" font-family=\"Helvetica,sans-Serif\" font-size=\"14.00\">entropy = 0.722</text>\n",
       "<text text-anchor=\"start\" x=\"237\" y=\"-258.7\" font-family=\"Helvetica,sans-Serif\" font-size=\"14.00\">samples = 5</text>\n",
       "<text text-anchor=\"start\" x=\"227.62\" y=\"-243.7\" font-family=\"Helvetica,sans-Serif\" font-size=\"14.00\">value = [0, 4, 1]</text>\n",
       "<text text-anchor=\"start\" x=\"222\" y=\"-228.7\" font-family=\"Helvetica,sans-Serif\" font-size=\"14.00\">class = versicolor</text>\n",
       "</g>\n",
       "<!-- 8&#45;&gt;10 -->\n",
       "<g id=\"edge10\" class=\"edge\">\n",
       "<title>8&#45;&gt;10</title>\n",
       "<path fill=\"none\" stroke=\"black\" d=\"M270.87,-341.58C271.21,-333.79 271.56,-325.53 271.9,-317.45\"/>\n",
       "<polygon fill=\"black\" stroke=\"black\" points=\"275.39,-317.85 272.32,-307.71 268.4,-317.55 275.39,-317.85\"/>\n",
       "</g>\n",
       "<!-- 11 -->\n",
       "<g id=\"node12\" class=\"node\">\n",
       "<title>11</title>\n",
       "<path fill=\"#39e581\" stroke=\"black\" d=\"M243.25,-179.5C243.25,-179.5 147,-179.5 147,-179.5 141,-179.5 135,-173.5 135,-167.5 135,-167.5 135,-123.5 135,-123.5 135,-117.5 141,-111.5 147,-111.5 147,-111.5 243.25,-111.5 243.25,-111.5 249.25,-111.5 255.25,-117.5 255.25,-123.5 255.25,-123.5 255.25,-167.5 255.25,-167.5 255.25,-173.5 249.25,-179.5 243.25,-179.5\"/>\n",
       "<text text-anchor=\"start\" x=\"155.38\" y=\"-162.2\" font-family=\"Helvetica,sans-Serif\" font-size=\"14.00\">entropy = 0.0</text>\n",
       "<text text-anchor=\"start\" x=\"158\" y=\"-147.2\" font-family=\"Helvetica,sans-Serif\" font-size=\"14.00\">samples = 3</text>\n",
       "<text text-anchor=\"start\" x=\"148.62\" y=\"-132.2\" font-family=\"Helvetica,sans-Serif\" font-size=\"14.00\">value = [0, 3, 0]</text>\n",
       "<text text-anchor=\"start\" x=\"143\" y=\"-117.2\" font-family=\"Helvetica,sans-Serif\" font-size=\"14.00\">class = versicolor</text>\n",
       "</g>\n",
       "<!-- 10&#45;&gt;11 -->\n",
       "<g id=\"edge11\" class=\"edge\">\n",
       "<title>10&#45;&gt;11</title>\n",
       "<path fill=\"none\" stroke=\"black\" d=\"M246.49,-222.58C239.2,-211.77 231.31,-200.09 223.95,-189.19\"/>\n",
       "<polygon fill=\"black\" stroke=\"black\" points=\"226.99,-187.44 218.5,-181.12 221.19,-191.36 226.99,-187.44\"/>\n",
       "</g>\n",
       "<!-- 12 -->\n",
       "<g id=\"node13\" class=\"node\">\n",
       "<title>12</title>\n",
       "<path fill=\"#ffffff\" stroke=\"black\" d=\"M422.88,-187C422.88,-187 285.38,-187 285.38,-187 279.38,-187 273.38,-181 273.38,-175 273.38,-175 273.38,-116 273.38,-116 273.38,-110 279.38,-104 285.38,-104 285.38,-104 422.88,-104 422.88,-104 428.88,-104 434.88,-110 434.88,-116 434.88,-116 434.88,-175 434.88,-175 434.88,-181 428.88,-187 422.88,-187\"/>\n",
       "<text text-anchor=\"start\" x=\"281.38\" y=\"-169.7\" font-family=\"Helvetica,sans-Serif\" font-size=\"14.00\">sepal length (cm) ≤ 6.15</text>\n",
       "<text text-anchor=\"start\" x=\"314.38\" y=\"-154.7\" font-family=\"Helvetica,sans-Serif\" font-size=\"14.00\">entropy = 1.0</text>\n",
       "<text text-anchor=\"start\" x=\"317\" y=\"-139.7\" font-family=\"Helvetica,sans-Serif\" font-size=\"14.00\">samples = 2</text>\n",
       "<text text-anchor=\"start\" x=\"307.62\" y=\"-124.7\" font-family=\"Helvetica,sans-Serif\" font-size=\"14.00\">value = [0, 1, 1]</text>\n",
       "<text text-anchor=\"start\" x=\"302\" y=\"-109.7\" font-family=\"Helvetica,sans-Serif\" font-size=\"14.00\">class = versicolor</text>\n",
       "</g>\n",
       "<!-- 10&#45;&gt;12 -->\n",
       "<g id=\"edge12\" class=\"edge\">\n",
       "<title>10&#45;&gt;12</title>\n",
       "<path fill=\"none\" stroke=\"black\" d=\"M302.11,-222.58C307.86,-214.16 313.99,-205.2 319.94,-196.5\"/>\n",
       "<polygon fill=\"black\" stroke=\"black\" points=\"322.69,-198.68 325.44,-188.45 316.91,-194.73 322.69,-198.68\"/>\n",
       "</g>\n",
       "<!-- 13 -->\n",
       "<g id=\"node14\" class=\"node\">\n",
       "<title>13</title>\n",
       "<path fill=\"#39e581\" stroke=\"black\" d=\"M335.25,-68C335.25,-68 239,-68 239,-68 233,-68 227,-62 227,-56 227,-56 227,-12 227,-12 227,-6 233,0 239,0 239,0 335.25,0 335.25,0 341.25,0 347.25,-6 347.25,-12 347.25,-12 347.25,-56 347.25,-56 347.25,-62 341.25,-68 335.25,-68\"/>\n",
       "<text text-anchor=\"start\" x=\"247.38\" y=\"-50.7\" font-family=\"Helvetica,sans-Serif\" font-size=\"14.00\">entropy = 0.0</text>\n",
       "<text text-anchor=\"start\" x=\"250\" y=\"-35.7\" font-family=\"Helvetica,sans-Serif\" font-size=\"14.00\">samples = 1</text>\n",
       "<text text-anchor=\"start\" x=\"240.62\" y=\"-20.7\" font-family=\"Helvetica,sans-Serif\" font-size=\"14.00\">value = [0, 1, 0]</text>\n",
       "<text text-anchor=\"start\" x=\"235\" y=\"-5.7\" font-family=\"Helvetica,sans-Serif\" font-size=\"14.00\">class = versicolor</text>\n",
       "</g>\n",
       "<!-- 12&#45;&gt;13 -->\n",
       "<g id=\"edge13\" class=\"edge\">\n",
       "<title>12&#45;&gt;13</title>\n",
       "<path fill=\"none\" stroke=\"black\" d=\"M329.18,-103.73C324.04,-95.34 318.62,-86.47 313.44,-78.01\"/>\n",
       "<polygon fill=\"black\" stroke=\"black\" points=\"316.49,-76.29 308.29,-69.59 310.52,-79.95 316.49,-76.29\"/>\n",
       "</g>\n",
       "<!-- 14 -->\n",
       "<g id=\"node15\" class=\"node\">\n",
       "<title>14</title>\n",
       "<path fill=\"#8139e5\" stroke=\"black\" d=\"M465.12,-68C465.12,-68 377.12,-68 377.12,-68 371.12,-68 365.12,-62 365.12,-56 365.12,-56 365.12,-12 365.12,-12 365.12,-6 371.12,0 377.12,0 377.12,0 465.12,0 465.12,0 471.12,0 477.12,-6 477.12,-12 477.12,-12 477.12,-56 477.12,-56 477.12,-62 471.12,-68 465.12,-68\"/>\n",
       "<text text-anchor=\"start\" x=\"381.38\" y=\"-50.7\" font-family=\"Helvetica,sans-Serif\" font-size=\"14.00\">entropy = 0.0</text>\n",
       "<text text-anchor=\"start\" x=\"384\" y=\"-35.7\" font-family=\"Helvetica,sans-Serif\" font-size=\"14.00\">samples = 1</text>\n",
       "<text text-anchor=\"start\" x=\"374.62\" y=\"-20.7\" font-family=\"Helvetica,sans-Serif\" font-size=\"14.00\">value = [0, 0, 1]</text>\n",
       "<text text-anchor=\"start\" x=\"373.12\" y=\"-5.7\" font-family=\"Helvetica,sans-Serif\" font-size=\"14.00\">class = virginica</text>\n",
       "</g>\n",
       "<!-- 12&#45;&gt;14 -->\n",
       "<g id=\"edge14\" class=\"edge\">\n",
       "<title>12&#45;&gt;14</title>\n",
       "<path fill=\"none\" stroke=\"black\" d=\"M379.07,-103.73C384.21,-95.34 389.63,-86.47 394.81,-78.01\"/>\n",
       "<polygon fill=\"black\" stroke=\"black\" points=\"397.73,-79.95 399.96,-69.59 391.76,-76.29 397.73,-79.95\"/>\n",
       "</g>\n",
       "<!-- 16 -->\n",
       "<g id=\"node17\" class=\"node\">\n",
       "<title>16</title>\n",
       "<path fill=\"#8139e5\" stroke=\"black\" d=\"M480.12,-298.5C480.12,-298.5 392.12,-298.5 392.12,-298.5 386.12,-298.5 380.12,-292.5 380.12,-286.5 380.12,-286.5 380.12,-242.5 380.12,-242.5 380.12,-236.5 386.12,-230.5 392.12,-230.5 392.12,-230.5 480.12,-230.5 480.12,-230.5 486.12,-230.5 492.12,-236.5 492.12,-242.5 492.12,-242.5 492.12,-286.5 492.12,-286.5 492.12,-292.5 486.12,-298.5 480.12,-298.5\"/>\n",
       "<text text-anchor=\"start\" x=\"396.38\" y=\"-281.2\" font-family=\"Helvetica,sans-Serif\" font-size=\"14.00\">entropy = 0.0</text>\n",
       "<text text-anchor=\"start\" x=\"399\" y=\"-266.2\" font-family=\"Helvetica,sans-Serif\" font-size=\"14.00\">samples = 8</text>\n",
       "<text text-anchor=\"start\" x=\"389.62\" y=\"-251.2\" font-family=\"Helvetica,sans-Serif\" font-size=\"14.00\">value = [0, 0, 8]</text>\n",
       "<text text-anchor=\"start\" x=\"388.12\" y=\"-236.2\" font-family=\"Helvetica,sans-Serif\" font-size=\"14.00\">class = virginica</text>\n",
       "</g>\n",
       "<!-- 15&#45;&gt;16 -->\n",
       "<g id=\"edge16\" class=\"edge\">\n",
       "<title>15&#45;&gt;16</title>\n",
       "<path fill=\"none\" stroke=\"black\" d=\"M438.73,-341.58C438.38,-331.43 438.01,-320.5 437.65,-310.18\"/>\n",
       "<polygon fill=\"black\" stroke=\"black\" points=\"441.16,-310.25 437.32,-300.37 434.16,-310.49 441.16,-310.25\"/>\n",
       "</g>\n",
       "<!-- 17 -->\n",
       "<g id=\"node18\" class=\"node\">\n",
       "<title>17</title>\n",
       "<path fill=\"#39e581\" stroke=\"black\" d=\"M618.25,-298.5C618.25,-298.5 522,-298.5 522,-298.5 516,-298.5 510,-292.5 510,-286.5 510,-286.5 510,-242.5 510,-242.5 510,-236.5 516,-230.5 522,-230.5 522,-230.5 618.25,-230.5 618.25,-230.5 624.25,-230.5 630.25,-236.5 630.25,-242.5 630.25,-242.5 630.25,-286.5 630.25,-286.5 630.25,-292.5 624.25,-298.5 618.25,-298.5\"/>\n",
       "<text text-anchor=\"start\" x=\"530.38\" y=\"-281.2\" font-family=\"Helvetica,sans-Serif\" font-size=\"14.00\">entropy = 0.0</text>\n",
       "<text text-anchor=\"start\" x=\"533\" y=\"-266.2\" font-family=\"Helvetica,sans-Serif\" font-size=\"14.00\">samples = 1</text>\n",
       "<text text-anchor=\"start\" x=\"523.62\" y=\"-251.2\" font-family=\"Helvetica,sans-Serif\" font-size=\"14.00\">value = [0, 1, 0]</text>\n",
       "<text text-anchor=\"start\" x=\"518\" y=\"-236.2\" font-family=\"Helvetica,sans-Serif\" font-size=\"14.00\">class = versicolor</text>\n",
       "</g>\n",
       "<!-- 15&#45;&gt;17 -->\n",
       "<g id=\"edge17\" class=\"edge\">\n",
       "<title>15&#45;&gt;17</title>\n",
       "<path fill=\"none\" stroke=\"black\" d=\"M485.59,-341.58C498.2,-330.23 511.9,-317.9 524.52,-306.55\"/>\n",
       "<polygon fill=\"black\" stroke=\"black\" points=\"526.84,-309.16 531.93,-299.87 522.16,-303.96 526.84,-309.16\"/>\n",
       "</g>\n",
       "</g>\n",
       "</svg>\n"
      ],
      "text/plain": [
       "<graphviz.sources.Source at 0x1328f1a30>"
      ]
     },
     "execution_count": 18,
     "metadata": {},
     "output_type": "execute_result"
    }
   ],
   "source": [
    "# 7. Visualize the fitted DecisionTreeClassifier\n",
    "# conda install python-graphviz\n",
    "dot_data = tree.export_graphviz(dt_clf, out_file=None, \n",
    "                                feature_names=iris.feature_names, \n",
    "                                class_names=iris.target_names,  \n",
    "                                filled=True, rounded=True,  \n",
    "                                special_characters=True)  \n",
    "graph = graphviz.Source(dot_data)  \n",
    "graph "
   ]
  },
  {
   "cell_type": "code",
   "execution_count": 15,
   "id": "19d51f85",
   "metadata": {},
   "outputs": [
    {
     "data": {
      "text/html": [
       "<div>\n",
       "<style scoped>\n",
       "    .dataframe tbody tr th:only-of-type {\n",
       "        vertical-align: middle;\n",
       "    }\n",
       "\n",
       "    .dataframe tbody tr th {\n",
       "        vertical-align: top;\n",
       "    }\n",
       "\n",
       "    .dataframe thead th {\n",
       "        text-align: right;\n",
       "    }\n",
       "</style>\n",
       "<table border=\"1\" class=\"dataframe\">\n",
       "  <thead>\n",
       "    <tr style=\"text-align: right;\">\n",
       "      <th></th>\n",
       "      <th>sepal length (cm)</th>\n",
       "      <th>sepal width (cm)</th>\n",
       "      <th>petal length (cm)</th>\n",
       "      <th>petal width (cm)</th>\n",
       "    </tr>\n",
       "  </thead>\n",
       "  <tbody>\n",
       "    <tr>\n",
       "      <th>0</th>\n",
       "      <td>0.01</td>\n",
       "      <td>0.04</td>\n",
       "      <td>0.89</td>\n",
       "      <td>0.06</td>\n",
       "    </tr>\n",
       "  </tbody>\n",
       "</table>\n",
       "</div>"
      ],
      "text/plain": [
       "   sepal length (cm)  sepal width (cm)  petal length (cm)  petal width (cm)\n",
       "0               0.01              0.04               0.89              0.06"
      ]
     },
     "execution_count": 15,
     "metadata": {},
     "output_type": "execute_result"
    }
   ],
   "source": [
    "# check and interpret feature importance\n",
    "pd.DataFrame([np.round(dt_clf.feature_importances_,2)], columns=iris.feature_names)"
   ]
  },
  {
   "cell_type": "code",
   "execution_count": 16,
   "id": "f74ea897",
   "metadata": {},
   "outputs": [
    {
     "data": {
      "text/plain": [
       "7"
      ]
     },
     "execution_count": 16,
     "metadata": {},
     "output_type": "execute_result"
    }
   ],
   "source": [
    "# depth of the fitted tree\n",
    "dt_clf.get_depth()"
   ]
  },
  {
   "cell_type": "code",
   "execution_count": 17,
   "id": "de743fb4",
   "metadata": {},
   "outputs": [
    {
     "data": {
      "text/plain": [
       "10"
      ]
     },
     "execution_count": 17,
     "metadata": {},
     "output_type": "execute_result"
    }
   ],
   "source": [
    "# number of leaves in the fitted tree\n",
    "dt_clf.get_n_leaves()"
   ]
  },
  {
   "cell_type": "code",
   "execution_count": 18,
   "id": "4cc7322a",
   "metadata": {},
   "outputs": [
    {
     "data": {
      "text/plain": [
       "array([1, 0, 2, 1, 1, 0, 1, 2, 1, 1])"
      ]
     },
     "execution_count": 18,
     "metadata": {},
     "output_type": "execute_result"
    }
   ],
   "source": [
    "# predict the class labels for the given samples\n",
    "dt_clf.predict(X_test[:10])"
   ]
  },
  {
   "cell_type": "code",
   "execution_count": 19,
   "id": "a3e73156",
   "metadata": {},
   "outputs": [
    {
     "data": {
      "text/plain": [
       "array([[0., 1., 0.],\n",
       "       [1., 0., 0.],\n",
       "       [0., 0., 1.],\n",
       "       [0., 1., 0.],\n",
       "       [0., 1., 0.],\n",
       "       [1., 0., 0.],\n",
       "       [0., 1., 0.],\n",
       "       [0., 0., 1.],\n",
       "       [0., 1., 0.],\n",
       "       [0., 1., 0.]])"
      ]
     },
     "execution_count": 19,
     "metadata": {},
     "output_type": "execute_result"
    }
   ],
   "source": [
    "# predict the class probabilities for the given samples\n",
    "dt_clf.predict_proba(X_test[:10])"
   ]
  },
  {
   "cell_type": "code",
   "execution_count": 20,
   "id": "5afa6ee6",
   "metadata": {},
   "outputs": [
    {
     "data": {
      "text/plain": [
       "array([[1, 0, 1, 1, 1, 0, 0, 0, 0, 0, 0, 0, 0, 0, 0, 0, 0, 0, 0]])"
      ]
     },
     "execution_count": 20,
     "metadata": {},
     "output_type": "execute_result"
    }
   ],
   "source": [
    "dt_clf.decision_path(X_test[:1]).toarray()"
   ]
  },
  {
   "cell_type": "markdown",
   "id": "5e61972e",
   "metadata": {},
   "source": [
    "#### Exploration"
   ]
  },
  {
   "cell_type": "code",
   "execution_count": 36,
   "id": "2567cd04",
   "metadata": {},
   "outputs": [],
   "source": [
    "# 8. Finally, play with different parameter settings and explore how the model performance changes.\n",
    "# documentation: https://scikit-learn.org/stable/modules/generated/sklearn.tree.DecisionTreeClassifier.html\n",
    "# Visualize and compare different decision trees.\n",
    "\n",
    "dt_clf = DecisionTreeClassifier(\n",
    "    random_state=42,\n",
    "    criterion='gini',              \n",
    "    splitter='best',                  \n",
    "    max_depth=5,                   \n",
    "    min_samples_split=2,            \n",
    "    min_samples_leaf=1,               \n",
    "    max_features=None,                \n",
    "    max_leaf_nodes=None,             \n",
    "    min_impurity_decrease=0.0,     \n",
    "    class_weight=None,               \n",
    "    ccp_alpha=0.0                 \n",
    ")\n"
   ]
  },
  {
   "cell_type": "code",
   "execution_count": 37,
   "id": "852e67d0",
   "metadata": {},
   "outputs": [],
   "source": [
    "dt_clf = dt_clf.fit(X_train, y_train)"
   ]
  },
  {
   "cell_type": "code",
   "execution_count": 38,
   "id": "55134124",
   "metadata": {},
   "outputs": [
    {
     "name": "stdout",
     "output_type": "stream",
     "text": [
      "Accuracy: 1.0\n"
     ]
    }
   ],
   "source": [
    "score = np.round(dt_clf.score(X_test, y_test), 3)\n",
    "print(\"Accuracy:\", score)"
   ]
  },
  {
   "cell_type": "code",
   "execution_count": 41,
   "id": "7636a486",
   "metadata": {},
   "outputs": [
    {
     "data": {
      "image/png": "[encoded data removed]",
      "text/plain": [
       "<Figure size 800x600 with 2 Axes>"
      ]
     },
     "metadata": {},
     "output_type": "display_data"
    }
   ],
   "source": [
    "from sklearn.metrics import confusion_matrix\n",
    "import numpy as np\n",
    "import seaborn as sns\n",
    "import matplotlib.pyplot as plt\n",
    "y_pred = dt_clf.predict(X_test)\n",
    "\n",
    "cm = confusion_matrix(y_test, y_pred)\n",
    "plt.figure(figsize=(8, 6))\n",
    "sns.heatmap(cm, annot=True, fmt=\"d\", cmap=\"Blues\", xticklabels=iris.target_names, yticklabels=iris.target_names)\n",
    "plt.ylabel('Actual')\n",
    "plt.xlabel('Predicted')\n",
    "plt.title('Confusion Matrix')\n",
    "plt.show()"
   ]
  },
  {
   "cell_type": "code",
   "execution_count": 40,
   "id": "2cee1663",
   "metadata": {},
   "outputs": [],
   "source": [
    "# list all the attributes and methods\n",
    "# dir(dt_clf)"
   ]
  },
  {
   "cell_type": "code",
   "execution_count": null,
   "id": "31080ee5",
   "metadata": {},
   "outputs": [],
   "source": [
    "# help(dt_clf)"
   ]
  },
  {
   "cell_type": "markdown",
   "id": "306d6d53",
   "metadata": {},
   "source": [
    "#### Discussion"
   ]
  },
  {
   "cell_type": "markdown",
   "id": "35e35873",
   "metadata": {},
   "source": [
    "The fitted decision tree classifier is: <br>\n",
    "   - a tree with depth of 7  \n",
    "   - it achieved 0.978 accuracy on the testing set\n",
    "   - petal length is the most important feature in distinguishing samples of three classes, this makes sense because ...(provide some biological explaination)\n",
    "   - sepal length seems to be the most unimportant feature because ... (provide some biological explaination)\n",
    "\n",
    "After exploring different parameter settings, we find that:\n",
    "   - max_depth helps control the maximum depth of the tree and thus avoids overfitting,...\n",
    "   - min_samples_split sets a threshold on the minimum number of samples required to split an internal node, and this prevents the tree to grow too complex,...\n",
    "   - ..."
   ]
  },
  {
   "cell_type": "markdown",
   "id": "23b02f43",
   "metadata": {},
   "source": [
    "### Decision tree regressor [group-coding, update the code to your github repo, and post your discussion results on ed]\n",
    "- Please follow the previous steps of building, evaluating, and visualizing decision tree classifier to build a decision tree regressor with the diabetes dataset. \n",
    "    - Decision tree regressor: https://scikit-learn.org/stable/modules/generated/sklearn.tree.DecisionTreeRegressor.html\n",
    "    - Diabetes dataset: https://scikit-learn.org/stable/datasets/toy_dataset.html#diabetes-dataset\n",
    "- Visualize to show how decision tree regressor is different from decision tree classifier.\n",
    "    "
   ]
  },
  {
   "cell_type": "code",
   "execution_count": 42,
   "id": "4953d96e",
   "metadata": {},
   "outputs": [],
   "source": [
    "# 1. import the additional related packages\n",
    "from sklearn.datasets import load_diabetes\n",
    "from sklearn.tree import DecisionTreeRegressor"
   ]
  },
  {
   "cell_type": "code",
   "execution_count": 43,
   "id": "5c515452",
   "metadata": {},
   "outputs": [],
   "source": [
    "# 2. load the dataset\n",
    "diab = load_diabetes()"
   ]
  },
  {
   "cell_type": "code",
   "execution_count": 44,
   "id": "2cccd011",
   "metadata": {},
   "outputs": [
    {
     "data": {
      "text/html": [
       "<div>\n",
       "<style scoped>\n",
       "    .dataframe tbody tr th:only-of-type {\n",
       "        vertical-align: middle;\n",
       "    }\n",
       "\n",
       "    .dataframe tbody tr th {\n",
       "        vertical-align: top;\n",
       "    }\n",
       "\n",
       "    .dataframe thead th {\n",
       "        text-align: right;\n",
       "    }\n",
       "</style>\n",
       "<table border=\"1\" class=\"dataframe\">\n",
       "  <thead>\n",
       "    <tr style=\"text-align: right;\">\n",
       "      <th></th>\n",
       "      <th>age</th>\n",
       "      <th>sex</th>\n",
       "      <th>bmi</th>\n",
       "      <th>bp</th>\n",
       "      <th>s1</th>\n",
       "      <th>s2</th>\n",
       "      <th>s3</th>\n",
       "      <th>s4</th>\n",
       "      <th>s5</th>\n",
       "      <th>s6</th>\n",
       "      <th>target</th>\n",
       "    </tr>\n",
       "  </thead>\n",
       "  <tbody>\n",
       "    <tr>\n",
       "      <th>0</th>\n",
       "      <td>0.038076</td>\n",
       "      <td>0.050680</td>\n",
       "      <td>0.061696</td>\n",
       "      <td>0.021872</td>\n",
       "      <td>-0.044223</td>\n",
       "      <td>-0.034821</td>\n",
       "      <td>-0.043401</td>\n",
       "      <td>-0.002592</td>\n",
       "      <td>0.019907</td>\n",
       "      <td>-0.017646</td>\n",
       "      <td>151.0</td>\n",
       "    </tr>\n",
       "    <tr>\n",
       "      <th>1</th>\n",
       "      <td>-0.001882</td>\n",
       "      <td>-0.044642</td>\n",
       "      <td>-0.051474</td>\n",
       "      <td>-0.026328</td>\n",
       "      <td>-0.008449</td>\n",
       "      <td>-0.019163</td>\n",
       "      <td>0.074412</td>\n",
       "      <td>-0.039493</td>\n",
       "      <td>-0.068332</td>\n",
       "      <td>-0.092204</td>\n",
       "      <td>75.0</td>\n",
       "    </tr>\n",
       "    <tr>\n",
       "      <th>2</th>\n",
       "      <td>0.085299</td>\n",
       "      <td>0.050680</td>\n",
       "      <td>0.044451</td>\n",
       "      <td>-0.005670</td>\n",
       "      <td>-0.045599</td>\n",
       "      <td>-0.034194</td>\n",
       "      <td>-0.032356</td>\n",
       "      <td>-0.002592</td>\n",
       "      <td>0.002861</td>\n",
       "      <td>-0.025930</td>\n",
       "      <td>141.0</td>\n",
       "    </tr>\n",
       "    <tr>\n",
       "      <th>3</th>\n",
       "      <td>-0.089063</td>\n",
       "      <td>-0.044642</td>\n",
       "      <td>-0.011595</td>\n",
       "      <td>-0.036656</td>\n",
       "      <td>0.012191</td>\n",
       "      <td>0.024991</td>\n",
       "      <td>-0.036038</td>\n",
       "      <td>0.034309</td>\n",
       "      <td>0.022688</td>\n",
       "      <td>-0.009362</td>\n",
       "      <td>206.0</td>\n",
       "    </tr>\n",
       "    <tr>\n",
       "      <th>4</th>\n",
       "      <td>0.005383</td>\n",
       "      <td>-0.044642</td>\n",
       "      <td>-0.036385</td>\n",
       "      <td>0.021872</td>\n",
       "      <td>0.003935</td>\n",
       "      <td>0.015596</td>\n",
       "      <td>0.008142</td>\n",
       "      <td>-0.002592</td>\n",
       "      <td>-0.031988</td>\n",
       "      <td>-0.046641</td>\n",
       "      <td>135.0</td>\n",
       "    </tr>\n",
       "    <tr>\n",
       "      <th>...</th>\n",
       "      <td>...</td>\n",
       "      <td>...</td>\n",
       "      <td>...</td>\n",
       "      <td>...</td>\n",
       "      <td>...</td>\n",
       "      <td>...</td>\n",
       "      <td>...</td>\n",
       "      <td>...</td>\n",
       "      <td>...</td>\n",
       "      <td>...</td>\n",
       "      <td>...</td>\n",
       "    </tr>\n",
       "    <tr>\n",
       "      <th>437</th>\n",
       "      <td>0.041708</td>\n",
       "      <td>0.050680</td>\n",
       "      <td>0.019662</td>\n",
       "      <td>0.059744</td>\n",
       "      <td>-0.005697</td>\n",
       "      <td>-0.002566</td>\n",
       "      <td>-0.028674</td>\n",
       "      <td>-0.002592</td>\n",
       "      <td>0.031193</td>\n",
       "      <td>0.007207</td>\n",
       "      <td>178.0</td>\n",
       "    </tr>\n",
       "    <tr>\n",
       "      <th>438</th>\n",
       "      <td>-0.005515</td>\n",
       "      <td>0.050680</td>\n",
       "      <td>-0.015906</td>\n",
       "      <td>-0.067642</td>\n",
       "      <td>0.049341</td>\n",
       "      <td>0.079165</td>\n",
       "      <td>-0.028674</td>\n",
       "      <td>0.034309</td>\n",
       "      <td>-0.018114</td>\n",
       "      <td>0.044485</td>\n",
       "      <td>104.0</td>\n",
       "    </tr>\n",
       "    <tr>\n",
       "      <th>439</th>\n",
       "      <td>0.041708</td>\n",
       "      <td>0.050680</td>\n",
       "      <td>-0.015906</td>\n",
       "      <td>0.017293</td>\n",
       "      <td>-0.037344</td>\n",
       "      <td>-0.013840</td>\n",
       "      <td>-0.024993</td>\n",
       "      <td>-0.011080</td>\n",
       "      <td>-0.046883</td>\n",
       "      <td>0.015491</td>\n",
       "      <td>132.0</td>\n",
       "    </tr>\n",
       "    <tr>\n",
       "      <th>440</th>\n",
       "      <td>-0.045472</td>\n",
       "      <td>-0.044642</td>\n",
       "      <td>0.039062</td>\n",
       "      <td>0.001215</td>\n",
       "      <td>0.016318</td>\n",
       "      <td>0.015283</td>\n",
       "      <td>-0.028674</td>\n",
       "      <td>0.026560</td>\n",
       "      <td>0.044529</td>\n",
       "      <td>-0.025930</td>\n",
       "      <td>220.0</td>\n",
       "    </tr>\n",
       "    <tr>\n",
       "      <th>441</th>\n",
       "      <td>-0.045472</td>\n",
       "      <td>-0.044642</td>\n",
       "      <td>-0.073030</td>\n",
       "      <td>-0.081413</td>\n",
       "      <td>0.083740</td>\n",
       "      <td>0.027809</td>\n",
       "      <td>0.173816</td>\n",
       "      <td>-0.039493</td>\n",
       "      <td>-0.004222</td>\n",
       "      <td>0.003064</td>\n",
       "      <td>57.0</td>\n",
       "    </tr>\n",
       "  </tbody>\n",
       "</table>\n",
       "<p>442 rows × 11 columns</p>\n",
       "</div>"
      ],
      "text/plain": [
       "          age       sex       bmi        bp        s1        s2        s3  \\\n",
       "0    0.038076  0.050680  0.061696  0.021872 -0.044223 -0.034821 -0.043401   \n",
       "1   -0.001882 -0.044642 -0.051474 -0.026328 -0.008449 -0.019163  0.074412   \n",
       "2    0.085299  0.050680  0.044451 -0.005670 -0.045599 -0.034194 -0.032356   \n",
       "3   -0.089063 -0.044642 -0.011595 -0.036656  0.012191  0.024991 -0.036038   \n",
       "4    0.005383 -0.044642 -0.036385  0.021872  0.003935  0.015596  0.008142   \n",
       "..        ...       ...       ...       ...       ...       ...       ...   \n",
       "437  0.041708  0.050680  0.019662  0.059744 -0.005697 -0.002566 -0.028674   \n",
       "438 -0.005515  0.050680 -0.015906 -0.067642  0.049341  0.079165 -0.028674   \n",
       "439  0.041708  0.050680 -0.015906  0.017293 -0.037344 -0.013840 -0.024993   \n",
       "440 -0.045472 -0.044642  0.039062  0.001215  0.016318  0.015283 -0.028674   \n",
       "441 -0.045472 -0.044642 -0.073030 -0.081413  0.083740  0.027809  0.173816   \n",
       "\n",
       "           s4        s5        s6  target  \n",
       "0   -0.002592  0.019907 -0.017646   151.0  \n",
       "1   -0.039493 -0.068332 -0.092204    75.0  \n",
       "2   -0.002592  0.002861 -0.025930   141.0  \n",
       "3    0.034309  0.022688 -0.009362   206.0  \n",
       "4   -0.002592 -0.031988 -0.046641   135.0  \n",
       "..        ...       ...       ...     ...  \n",
       "437 -0.002592  0.031193  0.007207   178.0  \n",
       "438  0.034309 -0.018114  0.044485   104.0  \n",
       "439 -0.011080 -0.046883  0.015491   132.0  \n",
       "440  0.026560  0.044529 -0.025930   220.0  \n",
       "441 -0.039493 -0.004222  0.003064    57.0  \n",
       "\n",
       "[442 rows x 11 columns]"
      ]
     },
     "execution_count": 44,
     "metadata": {},
     "output_type": "execute_result"
    }
   ],
   "source": [
    "# 2. display the dataset as a pandas dataframe\n",
    "df_diab = pd.DataFrame(diab.data, columns=diab.feature_names)\n",
    "df_diab['target'] = diab.target\n",
    "df_diab"
   ]
  },
  {
   "cell_type": "code",
   "execution_count": 45,
   "id": "cf09554c",
   "metadata": {},
   "outputs": [
    {
     "data": {
      "text/plain": [
       "Text(0, 0.5, '#samples')"
      ]
     },
     "execution_count": 45,
     "metadata": {},
     "output_type": "execute_result"
    },
    {
     "data": {
      "image/png": "[encoded data removed]",
      "text/plain": [
       "<Figure size 500x400 with 1 Axes>"
      ]
     },
     "metadata": {},
     "output_type": "display_data"
    }
   ],
   "source": [
    "# if the target variable is continuous, check the value distribution of the target variable\n",
    "plt.hist(df_diab.target, rwidth=0.8);\n",
    "plt.xlabel('diabetes values', fontsize=12)\n",
    "plt.ylabel(\"#samples\", fontsize=12)"
   ]
  },
  {
   "cell_type": "code",
   "execution_count": 46,
   "id": "00867e8e",
   "metadata": {},
   "outputs": [
    {
     "data": {
      "text/plain": [
       "((442, 10), (442,))"
      ]
     },
     "execution_count": 46,
     "metadata": {},
     "output_type": "execute_result"
    }
   ],
   "source": [
    "# 3. Get the input feature matrix and target variables, prepare for model fitting\n",
    "X,y = diab.data, diab.target\n",
    "X.shape, y.shape"
   ]
  },
  {
   "cell_type": "code",
   "execution_count": 47,
   "id": "69d2eb34",
   "metadata": {},
   "outputs": [
    {
     "data": {
      "text/plain": [
       "((309, 10), (133, 10))"
      ]
     },
     "execution_count": 47,
     "metadata": {},
     "output_type": "execute_result"
    }
   ],
   "source": [
    "# 3. split the data into training and testing set\n",
    "X_train, X_test, y_train, y_test = train_test_split(X, y, test_size=0.3, random_state=42)\n",
    "X_train.shape, X_test.shape"
   ]
  },
  {
   "cell_type": "code",
   "execution_count": 72,
   "id": "15788650",
   "metadata": {},
   "outputs": [
    {
     "name": "stdout",
     "output_type": "stream",
     "text": [
      "Accuracy: 0.355\n"
     ]
    }
   ],
   "source": [
    "# 4/5/6: fit the model on the training set and and evaluate the model performance on the testing set\n",
    "dt_reg = DecisionTreeRegressor(\n",
    "    random_state=42,   \n",
    "    # criterion= 'absolute_error',          \n",
    "    splitter='best',                  \n",
    "    max_depth=2,                   \n",
    "    min_samples_split=3,            \n",
    "    min_samples_leaf=2,               \n",
    "    max_features=None,                \n",
    "    max_leaf_nodes=None,             \n",
    "    min_impurity_decrease=0.0,     \n",
    "    ccp_alpha=0.0                 \n",
    ")\n",
    "\n",
    "dt_reg = dt_reg.fit(X_train, y_train)\n",
    "\n",
    "score = np.round(dt_reg.score(X_test, y_test), 3)\n",
    "print(\"Accuracy:\", score)\n"
   ]
  },
  {
   "cell_type": "code",
   "execution_count": 66,
   "id": "7c63209b",
   "metadata": {},
   "outputs": [
    {
     "data": {
      "image/svg+xml": [
       "<?xml version=\"1.0\" encoding=\"UTF-8\" standalone=\"no\"?>\n",
       "<!DOCTYPE svg PUBLIC \"-//W3C//DTD SVG 1.1//EN\"\n",
       " \"http://www.w3.org/Graphics/SVG/1.1/DTD/svg11.dtd\">\n",
       "<!-- Generated by graphviz version 9.0.0 (20230911.1827)\n",
       " -->\n",
       "<!-- Title: Tree Pages: 1 -->\n",
       "<svg width=\"754pt\" height=\"269pt\"\n",
       " viewBox=\"0.00 0.00 753.75 269.00\" xmlns=\"http://www.w3.org/2000/svg\" xmlns:xlink=\"http://www.w3.org/1999/xlink\">\n",
       "<g id=\"graph0\" class=\"graph\" transform=\"scale(1 1) rotate(0) translate(4 265)\">\n",
       "<title>Tree</title>\n",
       "<polygon fill=\"white\" stroke=\"none\" points=\"-4,4 -4,-265 749.75,-265 749.75,4 -4,4\"/>\n",
       "<!-- 0 -->\n",
       "<g id=\"node1\" class=\"node\">\n",
       "<title>0</title>\n",
       "<path fill=\"#f7d9c3\" stroke=\"black\" d=\"M446.75,-261C446.75,-261 298,-261 298,-261 292,-261 286,-255 286,-249 286,-249 286,-205 286,-205 286,-199 292,-193 298,-193 298,-193 446.75,-193 446.75,-193 452.75,-193 458.75,-199 458.75,-205 458.75,-205 458.75,-249 458.75,-249 458.75,-255 452.75,-261 446.75,-261\"/>\n",
       "<text text-anchor=\"start\" x=\"336.75\" y=\"-243.7\" font-family=\"Helvetica,sans-Serif\" font-size=\"14.00\">bmi ≤ 0.005</text>\n",
       "<text text-anchor=\"start\" x=\"294\" y=\"-228.7\" font-family=\"Helvetica,sans-Serif\" font-size=\"14.00\">squared_error = 6148.282</text>\n",
       "<text text-anchor=\"start\" x=\"327.75\" y=\"-213.7\" font-family=\"Helvetica,sans-Serif\" font-size=\"14.00\">samples = 309</text>\n",
       "<text text-anchor=\"start\" x=\"324\" y=\"-198.7\" font-family=\"Helvetica,sans-Serif\" font-size=\"14.00\">value = 153.903</text>\n",
       "</g>\n",
       "<!-- 1 -->\n",
       "<g id=\"node2\" class=\"node\">\n",
       "<title>1</title>\n",
       "<path fill=\"#fdf3ed\" stroke=\"black\" d=\"M351.75,-157C351.75,-157 203,-157 203,-157 197,-157 191,-151 191,-145 191,-145 191,-101 191,-101 191,-95 197,-89 203,-89 203,-89 351.75,-89 351.75,-89 357.75,-89 363.75,-95 363.75,-101 363.75,-101 363.75,-145 363.75,-145 363.75,-151 357.75,-157 351.75,-157\"/>\n",
       "<text text-anchor=\"start\" x=\"245.88\" y=\"-139.7\" font-family=\"Helvetica,sans-Serif\" font-size=\"14.00\">s5 ≤ 0.014</text>\n",
       "<text text-anchor=\"start\" x=\"199\" y=\"-124.7\" font-family=\"Helvetica,sans-Serif\" font-size=\"14.00\">squared_error = 3636.316</text>\n",
       "<text text-anchor=\"start\" x=\"232.75\" y=\"-109.7\" font-family=\"Helvetica,sans-Serif\" font-size=\"14.00\">samples = 183</text>\n",
       "<text text-anchor=\"start\" x=\"229\" y=\"-94.7\" font-family=\"Helvetica,sans-Serif\" font-size=\"14.00\">value = 118.355</text>\n",
       "</g>\n",
       "<!-- 0&#45;&gt;1 -->\n",
       "<g id=\"edge1\" class=\"edge\">\n",
       "<title>0&#45;&gt;1</title>\n",
       "<path fill=\"none\" stroke=\"black\" d=\"M341.27,-192.6C333.31,-184.06 324.66,-174.77 316.36,-165.86\"/>\n",
       "<polygon fill=\"black\" stroke=\"black\" points=\"318.96,-163.51 309.58,-158.58 313.84,-168.28 318.96,-163.51\"/>\n",
       "<text text-anchor=\"middle\" x=\"307.66\" y=\"-176.66\" font-family=\"Helvetica,sans-Serif\" font-size=\"14.00\">True</text>\n",
       "</g>\n",
       "<!-- 4 -->\n",
       "<g id=\"node5\" class=\"node\">\n",
       "<title>4</title>\n",
       "<path fill=\"#efb286\" stroke=\"black\" d=\"M542.75,-157C542.75,-157 394,-157 394,-157 388,-157 382,-151 382,-145 382,-145 382,-101 382,-101 382,-95 388,-89 394,-89 394,-89 542.75,-89 542.75,-89 548.75,-89 554.75,-95 554.75,-101 554.75,-101 554.75,-145 554.75,-145 554.75,-151 548.75,-157 542.75,-157\"/>\n",
       "<text text-anchor=\"start\" x=\"432.75\" y=\"-139.7\" font-family=\"Helvetica,sans-Serif\" font-size=\"14.00\">bmi ≤ 0.073</text>\n",
       "<text text-anchor=\"start\" x=\"390\" y=\"-124.7\" font-family=\"Helvetica,sans-Serif\" font-size=\"14.00\">squared_error = 5295.789</text>\n",
       "<text text-anchor=\"start\" x=\"423.75\" y=\"-109.7\" font-family=\"Helvetica,sans-Serif\" font-size=\"14.00\">samples = 126</text>\n",
       "<text text-anchor=\"start\" x=\"420\" y=\"-94.7\" font-family=\"Helvetica,sans-Serif\" font-size=\"14.00\">value = 205.532</text>\n",
       "</g>\n",
       "<!-- 0&#45;&gt;4 -->\n",
       "<g id=\"edge4\" class=\"edge\">\n",
       "<title>0&#45;&gt;4</title>\n",
       "<path fill=\"none\" stroke=\"black\" d=\"M403.81,-192.6C411.93,-183.97 420.77,-174.58 429.24,-165.58\"/>\n",
       "<polygon fill=\"black\" stroke=\"black\" points=\"431.53,-168.26 435.83,-158.58 426.43,-163.46 431.53,-168.26\"/>\n",
       "<text text-anchor=\"middle\" x=\"437.63\" y=\"-176.66\" font-family=\"Helvetica,sans-Serif\" font-size=\"14.00\">False</text>\n",
       "</g>\n",
       "<!-- 2 -->\n",
       "<g id=\"node3\" class=\"node\">\n",
       "<title>2</title>\n",
       "<path fill=\"#ffffff\" stroke=\"black\" d=\"M160.75,-53C160.75,-53 12,-53 12,-53 6,-53 0,-47 0,-41 0,-41 0,-12 0,-12 0,-6 6,0 12,0 12,0 160.75,0 160.75,0 166.75,0 172.75,-6 172.75,-12 172.75,-12 172.75,-41 172.75,-41 172.75,-47 166.75,-53 160.75,-53\"/>\n",
       "<text text-anchor=\"start\" x=\"8\" y=\"-35.7\" font-family=\"Helvetica,sans-Serif\" font-size=\"14.00\">squared_error = 2641.993</text>\n",
       "<text text-anchor=\"start\" x=\"41.75\" y=\"-20.7\" font-family=\"Helvetica,sans-Serif\" font-size=\"14.00\">samples = 138</text>\n",
       "<text text-anchor=\"start\" x=\"38\" y=\"-5.7\" font-family=\"Helvetica,sans-Serif\" font-size=\"14.00\">value = 102.855</text>\n",
       "</g>\n",
       "<!-- 1&#45;&gt;2 -->\n",
       "<g id=\"edge2\" class=\"edge\">\n",
       "<title>1&#45;&gt;2</title>\n",
       "<path fill=\"none\" stroke=\"black\" d=\"M209.77,-88.55C190.03,-78.78 168.55,-68.15 149.12,-58.54\"/>\n",
       "<polygon fill=\"black\" stroke=\"black\" points=\"150.74,-55.44 140.22,-54.14 147.64,-61.71 150.74,-55.44\"/>\n",
       "</g>\n",
       "<!-- 3 -->\n",
       "<g id=\"node4\" class=\"node\">\n",
       "<title>3</title>\n",
       "<path fill=\"#f5d0b5\" stroke=\"black\" d=\"M351.75,-53C351.75,-53 203,-53 203,-53 197,-53 191,-47 191,-41 191,-41 191,-12 191,-12 191,-6 197,0 203,0 203,0 351.75,0 351.75,0 357.75,0 363.75,-6 363.75,-12 363.75,-12 363.75,-41 363.75,-41 363.75,-47 357.75,-53 351.75,-53\"/>\n",
       "<text text-anchor=\"start\" x=\"199\" y=\"-35.7\" font-family=\"Helvetica,sans-Serif\" font-size=\"14.00\">squared_error = 3689.343</text>\n",
       "<text text-anchor=\"start\" x=\"236.5\" y=\"-20.7\" font-family=\"Helvetica,sans-Serif\" font-size=\"14.00\">samples = 45</text>\n",
       "<text text-anchor=\"start\" x=\"229\" y=\"-5.7\" font-family=\"Helvetica,sans-Serif\" font-size=\"14.00\">value = 165.889</text>\n",
       "</g>\n",
       "<!-- 1&#45;&gt;3 -->\n",
       "<g id=\"edge3\" class=\"edge\">\n",
       "<title>1&#45;&gt;3</title>\n",
       "<path fill=\"none\" stroke=\"black\" d=\"M277.38,-88.68C277.38,-80.99 277.38,-72.76 277.38,-64.9\"/>\n",
       "<polygon fill=\"black\" stroke=\"black\" points=\"280.88,-64.91 277.38,-54.91 273.88,-64.91 280.88,-64.91\"/>\n",
       "</g>\n",
       "<!-- 5 -->\n",
       "<g id=\"node6\" class=\"node\">\n",
       "<title>5</title>\n",
       "<path fill=\"#f2be99\" stroke=\"black\" d=\"M542.75,-53C542.75,-53 394,-53 394,-53 388,-53 382,-47 382,-41 382,-41 382,-12 382,-12 382,-6 388,0 394,0 394,0 542.75,0 542.75,0 548.75,0 554.75,-6 554.75,-12 554.75,-12 554.75,-41 554.75,-41 554.75,-47 548.75,-53 542.75,-53\"/>\n",
       "<text text-anchor=\"start\" x=\"390\" y=\"-35.7\" font-family=\"Helvetica,sans-Serif\" font-size=\"14.00\">squared_error = 4653.159</text>\n",
       "<text text-anchor=\"start\" x=\"423.75\" y=\"-20.7\" font-family=\"Helvetica,sans-Serif\" font-size=\"14.00\">samples = 101</text>\n",
       "<text text-anchor=\"start\" x=\"420\" y=\"-5.7\" font-family=\"Helvetica,sans-Serif\" font-size=\"14.00\">value = 189.297</text>\n",
       "</g>\n",
       "<!-- 4&#45;&gt;5 -->\n",
       "<g id=\"edge5\" class=\"edge\">\n",
       "<title>4&#45;&gt;5</title>\n",
       "<path fill=\"none\" stroke=\"black\" d=\"M468.38,-88.68C468.38,-80.99 468.38,-72.76 468.38,-64.9\"/>\n",
       "<polygon fill=\"black\" stroke=\"black\" points=\"471.88,-64.91 468.38,-54.91 464.88,-64.91 471.88,-64.91\"/>\n",
       "</g>\n",
       "<!-- 6 -->\n",
       "<g id=\"node7\" class=\"node\">\n",
       "<title>6</title>\n",
       "<path fill=\"#e58139\" stroke=\"black\" d=\"M733.75,-53C733.75,-53 585,-53 585,-53 579,-53 573,-47 573,-41 573,-41 573,-12 573,-12 573,-6 579,0 585,0 585,0 733.75,0 733.75,0 739.75,0 745.75,-6 745.75,-12 745.75,-12 745.75,-41 745.75,-41 745.75,-47 739.75,-53 733.75,-53\"/>\n",
       "<text text-anchor=\"start\" x=\"581\" y=\"-35.7\" font-family=\"Helvetica,sans-Serif\" font-size=\"14.00\">squared_error = 2525.386</text>\n",
       "<text text-anchor=\"start\" x=\"618.5\" y=\"-20.7\" font-family=\"Helvetica,sans-Serif\" font-size=\"14.00\">samples = 25</text>\n",
       "<text text-anchor=\"start\" x=\"614.75\" y=\"-5.7\" font-family=\"Helvetica,sans-Serif\" font-size=\"14.00\">value = 271.12</text>\n",
       "</g>\n",
       "<!-- 4&#45;&gt;6 -->\n",
       "<g id=\"edge6\" class=\"edge\">\n",
       "<title>4&#45;&gt;6</title>\n",
       "<path fill=\"none\" stroke=\"black\" d=\"M535.98,-88.55C555.72,-78.78 577.2,-68.15 596.63,-58.54\"/>\n",
       "<polygon fill=\"black\" stroke=\"black\" points=\"598.11,-61.71 605.53,-54.14 595.01,-55.44 598.11,-61.71\"/>\n",
       "</g>\n",
       "</g>\n",
       "</svg>\n"
      ],
      "text/plain": [
       "<graphviz.sources.Source at 0x133abd040>"
      ]
     },
     "execution_count": 66,
     "metadata": {},
     "output_type": "execute_result"
    }
   ],
   "source": [
    "# 7. Visualize the fitted DecisionTreeRegressor\n",
    "dot_data = tree.export_graphviz(dt_reg, out_file=None, \n",
    "                           feature_names=diab.feature_names, \n",
    "                           filled=True, rounded=True,  \n",
    "                           special_characters=True) \n",
    "graph = graphviz.Source(dot_data)  \n",
    "graph "
   ]
  },
  {
   "cell_type": "code",
   "execution_count": 67,
   "id": "3532b4b6",
   "metadata": {},
   "outputs": [
    {
     "data": {
      "text/html": [
       "<div>\n",
       "<style scoped>\n",
       "    .dataframe tbody tr th:only-of-type {\n",
       "        vertical-align: middle;\n",
       "    }\n",
       "\n",
       "    .dataframe tbody tr th {\n",
       "        vertical-align: top;\n",
       "    }\n",
       "\n",
       "    .dataframe thead th {\n",
       "        text-align: right;\n",
       "    }\n",
       "</style>\n",
       "<table border=\"1\" class=\"dataframe\">\n",
       "  <thead>\n",
       "    <tr style=\"text-align: right;\">\n",
       "      <th></th>\n",
       "      <th>age</th>\n",
       "      <th>sex</th>\n",
       "      <th>bmi</th>\n",
       "      <th>bp</th>\n",
       "      <th>s1</th>\n",
       "      <th>s2</th>\n",
       "      <th>s3</th>\n",
       "      <th>s4</th>\n",
       "      <th>s5</th>\n",
       "      <th>s6</th>\n",
       "    </tr>\n",
       "  </thead>\n",
       "  <tbody>\n",
       "    <tr>\n",
       "      <th>0</th>\n",
       "      <td>0.0</td>\n",
       "      <td>0.0</td>\n",
       "      <td>0.84</td>\n",
       "      <td>0.0</td>\n",
       "      <td>0.0</td>\n",
       "      <td>0.0</td>\n",
       "      <td>0.0</td>\n",
       "      <td>0.0</td>\n",
       "      <td>0.16</td>\n",
       "      <td>0.0</td>\n",
       "    </tr>\n",
       "  </tbody>\n",
       "</table>\n",
       "</div>"
      ],
      "text/plain": [
       "   age  sex   bmi   bp   s1   s2   s3   s4    s5   s6\n",
       "0  0.0  0.0  0.84  0.0  0.0  0.0  0.0  0.0  0.16  0.0"
      ]
     },
     "execution_count": 67,
     "metadata": {},
     "output_type": "execute_result"
    }
   ],
   "source": [
    "# check and interpret feature importance\n",
    "pd.DataFrame([np.round(dt_reg.feature_importances_,2)], columns=diab.feature_names)"
   ]
  },
  {
   "cell_type": "code",
   "execution_count": 70,
   "id": "2c52edfd",
   "metadata": {},
   "outputs": [
    {
     "data": {
      "text/plain": [
       "2"
      ]
     },
     "execution_count": 70,
     "metadata": {},
     "output_type": "execute_result"
    }
   ],
   "source": [
    "# depth of the fitted tree\n",
    "dt_reg.get_depth()"
   ]
  },
  {
   "cell_type": "code",
   "execution_count": 73,
   "id": "b2d9003e",
   "metadata": {},
   "outputs": [
    {
     "data": {
      "text/plain": [
       "4"
      ]
     },
     "execution_count": 73,
     "metadata": {},
     "output_type": "execute_result"
    }
   ],
   "source": [
    "# number of leaves in the fitted tree\n",
    "dt_reg.get_n_leaves()"
   ]
  },
  {
   "cell_type": "code",
   "execution_count": 75,
   "id": "9f394d00",
   "metadata": {},
   "outputs": [
    {
     "data": {
      "text/plain": [
       "array([165.88888889, 189.2970297 , 165.88888889, 189.2970297 ,\n",
       "       102.85507246, 102.85507246, 271.12      , 189.2970297 ,\n",
       "       165.88888889, 189.2970297 ])"
      ]
     },
     "execution_count": 75,
     "metadata": {},
     "output_type": "execute_result"
    }
   ],
   "source": [
    "# predict the regression value for the given samples\n",
    "dt_reg.predict(X_test[:10])"
   ]
  },
  {
   "cell_type": "code",
   "execution_count": 76,
   "id": "f55a47db",
   "metadata": {},
   "outputs": [
    {
     "name": "stdout",
     "output_type": "stream",
     "text": [
      "already tried tuning those parameters, this is the highest accuracy I could achieve\n"
     ]
    }
   ],
   "source": [
    "# 8. Finally, play with different parameter settings and explore how model performance changes. \n",
    "# Visualize and compare different decision trees.\n",
    "print(\"already tried tuning those parameters, this is the highest accuracy I could achieve\")"
   ]
  },
  {
   "cell_type": "code",
   "execution_count": null,
   "id": "eb87de2f",
   "metadata": {},
   "outputs": [],
   "source": [
    "# list all the attributes and methods\n",
    "# dir(dt_clf)"
   ]
  },
  {
   "cell_type": "code",
   "execution_count": null,
   "id": "689a0865",
   "metadata": {},
   "outputs": [],
   "source": [
    "# help(dt_clf)"
   ]
  },
  {
   "cell_type": "markdown",
   "id": "53d88aec",
   "metadata": {},
   "source": [
    "#### Discussion\n",
    "- compare decision tree classifier and regressor, what differences do you observe?\n",
    "- what parameter settings have you explored and how does each parameter affect the regressor performance?\n",
    "- can you interpret the feature importance under the context of this task?\n",
    "- what else do you find interesting?"
   ]
  },
  {
   "cell_type": "code",
   "execution_count": 78,
   "id": "25305f5e",
   "metadata": {},
   "outputs": [
    {
     "name": "stdout",
     "output_type": "stream",
     "text": [
      "regrssion tree and decision tree use different criterion aka. different loss function for training, and because the complexity of a regression task is often higher than a classification task, the accuracy of a regression tree tend to be lower. I found the criterion and the max depth of split contributed most to the model's performance. We need to carefully tune those parameters to get the most ideal ones because decision tree often suffer from overfitting.\n"
     ]
    }
   ],
   "source": [
    "print(\"regrssion tree and decision tree use different criterion aka. different loss function for training, and because the complexity of a \\\n",
    "regression task is often higher than a classification task, the accuracy of a regression tree tend to be lower. \\\n",
    "I found the criterion and the max depth of split contributed most to the model's performance. We need to carefully tune those parameters \\\n",
    "to get the most ideal ones because decision tree often suffer from overfitting.\")"
   ]
  },
  {
   "cell_type": "markdown",
   "id": "74d84d53",
   "metadata": {},
   "source": [
    "### Random Forest classifer/regressor [take-home assignment, update to your github repo]\n",
    "For a random forest classifier:\n",
    "- use the prepared iris dataset (X_train, y_train, X_test, y_test) \n",
    "- train a [RandomForestClassifier] on the training set\n",
    "    - (https://scikit-learn.org/stable/modules/generated/sklearn.ensemble.RandomForestClassifier.html)\n",
    "- report the model performance on the testing set\n",
    "- compare the performance of a decision tree classifier and a random forest classifier "
   ]
  },
  {
   "cell_type": "code",
   "execution_count": 79,
   "id": "91fad4c2",
   "metadata": {},
   "outputs": [],
   "source": [
    "from sklearn.ensemble import RandomForestClassifier"
   ]
  },
  {
   "cell_type": "code",
   "execution_count": 80,
   "id": "2e1cc402",
   "metadata": {},
   "outputs": [],
   "source": [
    "# train a random forest classier\n",
    "# set n_estimators = 1000, criterion = 'entropy', random_state = 42, and keep all the other parameters with the default value.\n",
    "X,y = iris.data, iris.target"
   ]
  },
  {
   "cell_type": "code",
   "execution_count": 81,
   "id": "dd6902c0",
   "metadata": {},
   "outputs": [],
   "source": [
    "# evaluate the random forest classifier on test set (round to the 3rd decimal, e.g., 0.971, 0.020)\n",
    "X_train, X_test, y_train, y_test = train_test_split(X, y, test_size=0.3, random_state=42)"
   ]
  },
  {
   "cell_type": "code",
   "execution_count": 85,
   "id": "f836546d",
   "metadata": {},
   "outputs": [],
   "source": [
    "from sklearn.metrics import accuracy_score"
   ]
  },
  {
   "cell_type": "code",
   "execution_count": 86,
   "id": "c86593bb",
   "metadata": {},
   "outputs": [
    {
     "name": "stdout",
     "output_type": "stream",
     "text": [
      "Accuracy: 1.0\n",
      "Accuracy: 1.0\n"
     ]
    }
   ],
   "source": [
    "# try different model parameters (e.g., n_estimators) and check the results\n",
    "rf = RandomForestClassifier(n_estimators=100, random_state=42)\n",
    "rf.fit(X_train, y_train)\n",
    "y_pred = rf.predict(X_test)\n",
    "score = np.round(rf.score(X_test, y_test), 3)\n",
    "print(\"Accuracy:\", score)\n",
    "accuracy = accuracy_score(y_test, y_pred)\n",
    "print(\"Accuracy:\", accuracy)"
   ]
  },
  {
   "cell_type": "markdown",
   "id": "5bd71471",
   "metadata": {},
   "source": [
    "#### Discussion\n",
    "After comparing decision tree classifier and random forest classifier, share your thoughts and insights. E.g.,\n",
    "- which performed better?\n",
    "- how does model parameter affect the model performance in the random forest classifier?"
   ]
  },
  {
   "cell_type": "code",
   "execution_count": null,
   "id": "99c8e866",
   "metadata": {},
   "outputs": [],
   "source": [
    "print(\"clearly random forest would outperform decision tree in many task because the randomness helps the model to learn better \\\n",
    "      from the data as well as prevent outfitting. But this is a relatively too simple a dataset so that we hardly see a difference \\\n",
    "      between their performances \\\n",
    "      Clearly, the n_estimators contribute a lot to the accuracy because generally the more trees rf uses, the better it would be able to \\\n",
    "      learn from the dataset.\"\n",
    "      )"
   ]
  },
  {
   "cell_type": "markdown",
   "id": "a91276b1",
   "metadata": {},
   "source": [
    "### [Optional] take-home practice"
   ]
  },
  {
   "cell_type": "markdown",
   "id": "85610d5e",
   "metadata": {},
   "source": [
    "The following part provides a practice of calculating entropy and information gain from scratch. You can refer to the slides to review these concepts. \n",
    "\n",
    "For each of the designed function, we provide the function header, docstring, and expected results for the running examples. You can use the running example to check the correctness of your code. We have included all the necessary packages, but you are free to add any additional package when necessary. <br>"
   ]
  },
  {
   "cell_type": "code",
   "execution_count": 89,
   "id": "d553f07e",
   "metadata": {},
   "outputs": [],
   "source": [
    "import numpy as np\n",
    "def get_proportion(ct):\n",
    "    \"\"\"\n",
    "    Calculate the class distribution based on the number of samples in each class.\n",
    "    ct: a list of integers indicating the number of samples in each class\n",
    "        binary class: ct = [ct1, ct2]\n",
    "        multi-class: ct = [ct1, ct2, ...]\n",
    "    return: a list/array of numbers indicating the proportions of samples in each class\n",
    "    \"\"\"\n",
    "    ### your code here\n",
    "    total_samples = sum(ct)\n",
    "    proportions = [x / total_samples for x in ct]\n",
    "    return np.array(proportions)"
   ]
  },
  {
   "cell_type": "code",
   "execution_count": 90,
   "id": "2b3c1bcd",
   "metadata": {},
   "outputs": [
    {
     "data": {
      "text/plain": [
       "array([0.5, 0.5])"
      ]
     },
     "execution_count": 90,
     "metadata": {},
     "output_type": "execute_result"
    }
   ],
   "source": [
    "get_proportion([5,5])"
   ]
  },
  {
   "cell_type": "code",
   "execution_count": 91,
   "id": "ae0759bf",
   "metadata": {},
   "outputs": [
    {
     "data": {
      "text/plain": [
       "array([0.6, 0.4])"
      ]
     },
     "execution_count": 91,
     "metadata": {},
     "output_type": "execute_result"
    }
   ],
   "source": [
    "get_proportion([3,2])"
   ]
  },
  {
   "cell_type": "code",
   "execution_count": 92,
   "id": "62539073",
   "metadata": {},
   "outputs": [],
   "source": [
    "import math\n",
    "def calculate_entropy(prop):\n",
    "    \"\"\"\n",
    "    Calculate the entropy at each node.\n",
    "    prop: a list of numbers indicating the proportion of samples in each class\n",
    "        binary case: [p, 1-p]\n",
    "        multi-class cases: [p1, p2, ...pn], where p1 + p2 + ... + pn = 1\n",
    "    return:\n",
    "        a float representing the entropy for the current sample distribution\n",
    "        please round to 3 digits after the decimal point \n",
    "    \"\"\"\n",
    "    ### your code here\n",
    "    entropy = -sum(p * math.log2(p) for p in prop if p > 0)\n",
    "    return round(entropy, 3)"
   ]
  },
  {
   "cell_type": "code",
   "execution_count": 93,
   "id": "99d45174",
   "metadata": {},
   "outputs": [
    {
     "data": {
      "text/plain": [
       "1.0"
      ]
     },
     "execution_count": 93,
     "metadata": {},
     "output_type": "execute_result"
    }
   ],
   "source": [
    "calculate_entropy([0.5,0.5])"
   ]
  },
  {
   "cell_type": "code",
   "execution_count": 94,
   "id": "a50cdd87",
   "metadata": {},
   "outputs": [
    {
     "data": {
      "text/plain": [
       "0.971"
      ]
     },
     "execution_count": 94,
     "metadata": {},
     "output_type": "execute_result"
    }
   ],
   "source": [
    "calculate_entropy([0.6,0.4])"
   ]
  },
  {
   "cell_type": "code",
   "execution_count": 95,
   "id": "f1b97f75",
   "metadata": {},
   "outputs": [
    {
     "data": {
      "text/plain": [
       "1.485"
      ]
     },
     "execution_count": 95,
     "metadata": {},
     "output_type": "execute_result"
    }
   ],
   "source": [
    "calculate_entropy(get_proportion([3,5,2]))"
   ]
  },
  {
   "cell_type": "code",
   "execution_count": 96,
   "id": "3e83bb8d",
   "metadata": {},
   "outputs": [],
   "source": [
    "def calculate_IG(root_counts, leaves_counts):\n",
    "    \"\"\"\n",
    "    Calculate information gain of splitting on a specific feature.\n",
    "    root_counts:\n",
    "        a list if integers indicating the number of samples for each class at the root node\n",
    "        e.g., root_counts = [3,2]\n",
    "    leaves_counts:\n",
    "        a list of lists, each sublist shows the sample distribution at each leaf node\n",
    "        E.g., in the slides, if we split on X1, leaves_counts = [[2,1],[1,1]]\n",
    "    return: \n",
    "        a float indicating the information gain of splitting on the current decision node:\n",
    "        please round to the 3rd decimal, e.g., 0.971, 0.020\n",
    "    note: \n",
    "        you will use the above helper functions in the calculation\n",
    "    \"\"\"\n",
    "    ### your code here\n",
    "    total_samples = sum(root_counts)\n",
    "    root_prop = [count / total_samples for count in root_counts]\n",
    "    entropy_root = calculate_entropy(root_prop)\n",
    "\n",
    "    weighted_entropy_leaves = 0\n",
    "    for leaf in leaves_counts:\n",
    "        leaf_total = sum(leaf)\n",
    "        leaf_prop = [count / leaf_total for count in leaf]\n",
    "        entropy_leaf = calculate_entropy(leaf_prop)\n",
    "        weighted_entropy_leaves += (leaf_total / total_samples) * entropy_leaf\n",
    "\n",
    "    IG = entropy_root - weighted_entropy_leaves\n",
    "    return round(IG, 3)\n",
    "    "
   ]
  },
  {
   "cell_type": "code",
   "execution_count": 97,
   "id": "cb91699c",
   "metadata": {},
   "outputs": [
    {
     "data": {
      "text/plain": [
       "0.02"
      ]
     },
     "execution_count": 97,
     "metadata": {},
     "output_type": "execute_result"
    }
   ],
   "source": [
    "# running example for spliting on X1\n",
    "calculate_IG([3,2], [[2,1], [1,1]])"
   ]
  },
  {
   "cell_type": "code",
   "execution_count": 98,
   "id": "118c50c4",
   "metadata": {},
   "outputs": [
    {
     "data": {
      "text/plain": [
       "0.171"
      ]
     },
     "execution_count": 98,
     "metadata": {},
     "output_type": "execute_result"
    }
   ],
   "source": [
    "# running example for spliting on X2\n",
    "calculate_IG([3,2], [[2,2], [1,0]])"
   ]
  },
  {
   "cell_type": "code",
   "execution_count": 99,
   "id": "7bdb45a8",
   "metadata": {},
   "outputs": [
    {
     "data": {
      "text/plain": [
       "0.971"
      ]
     },
     "execution_count": 99,
     "metadata": {},
     "output_type": "execute_result"
    }
   ],
   "source": [
    "# running example for spliting on X3\n",
    "calculate_IG([3,2], [[3,0], [0,2]])"
   ]
  },
  {
   "cell_type": "code",
   "execution_count": 100,
   "id": "ce377fdd",
   "metadata": {},
   "outputs": [
    {
     "data": {
      "text/plain": [
       "0.246"
      ]
     },
     "execution_count": 100,
     "metadata": {},
     "output_type": "execute_result"
    }
   ],
   "source": [
    "# running example for spliting on Outlook\n",
    "calculate_IG([9,5], [[2,3], [4,0], [3,2]])"
   ]
  },
  {
   "cell_type": "code",
   "execution_count": null,
   "id": "d7694cf8",
   "metadata": {},
   "outputs": [],
   "source": []
  }
 ],
 "metadata": {
  "kernelspec": {
   "display_name": "Python 3",
   "language": "python",
   "name": "python3"
  },
  "language_info": {
   "codemirror_mode": {
    "name": "ipython",
    "version": 3
   },
   "file_extension": ".py",
   "mimetype": "text/x-python",
   "name": "python",
   "nbconvert_exporter": "python",
   "pygments_lexer": "ipython3",
   "version": "3.9.6"
  },
  "toc": {
   "base_numbering": 1,
   "nav_menu": {},
   "number_sections": true,
   "sideBar": true,
   "skip_h1_title": false,
   "title_cell": "Table of Contents",
   "title_sidebar": "Contents",
   "toc_cell": false,
   "toc_position": {},
   "toc_section_display": true,
   "toc_window_display": false
  }
 },
 "nbformat": 4,
 "nbformat_minor": 5
}
